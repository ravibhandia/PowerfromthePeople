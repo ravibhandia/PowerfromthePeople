{
 "cells": [
  {
   "cell_type": "code",
   "execution_count": 1,
   "metadata": {},
   "outputs": [],
   "source": [
    "from sklearn.cluster import KMeans\n",
    "from sklearn.neighbors import KNeighborsRegressor\n",
    "from sklearn.linear_model import LinearRegression\n",
    "import numpy as np\n",
    "import pandas as pd\n",
    "from sklearn.model_selection import train_test_split\n",
    "from sklearn.metrics import accuracy_score, mean_squared_error, mean_absolute_error, r2_score\n",
    "from sklearn.ensemble import RandomForestRegressor, BaggingRegressor, GradientBoostingRegressor\n",
    "import matplotlib.pyplot as plt\n",
    "import statsmodels.api as sm\n",
    "import statsmodels.formula.api as smf"
   ]
  },
  {
   "cell_type": "code",
   "execution_count": 2,
   "metadata": {},
   "outputs": [],
   "source": [
    "import seaborn as sns"
   ]
  },
  {
   "cell_type": "code",
   "execution_count": 4,
   "metadata": {},
   "outputs": [],
   "source": [
    "data = pd.read_csv(\"HourlyDataCleanedFinal.csv\")"
   ]
  },
  {
   "cell_type": "code",
   "execution_count": 5,
   "metadata": {},
   "outputs": [],
   "source": [
    "import matplotlib.pyplot as plt"
   ]
  },
  {
   "cell_type": "markdown",
   "metadata": {},
   "source": [
    "# Lets merge the weather data now"
   ]
  },
  {
   "cell_type": "code",
   "execution_count": 7,
   "metadata": {},
   "outputs": [],
   "source": [
    "weather = pd.read_csv(\"weather.csv\")"
   ]
  },
  {
   "cell_type": "code",
   "execution_count": 8,
   "metadata": {
    "scrolled": true
   },
   "outputs": [
    {
     "data": {
      "text/html": [
       "<div>\n",
       "<style scoped>\n",
       "    .dataframe tbody tr th:only-of-type {\n",
       "        vertical-align: middle;\n",
       "    }\n",
       "\n",
       "    .dataframe tbody tr th {\n",
       "        vertical-align: top;\n",
       "    }\n",
       "\n",
       "    .dataframe thead th {\n",
       "        text-align: right;\n",
       "    }\n",
       "</style>\n",
       "<table border=\"1\" class=\"dataframe\">\n",
       "  <thead>\n",
       "    <tr style=\"text-align: right;\">\n",
       "      <th></th>\n",
       "      <th>Unnamed: 0</th>\n",
       "      <th>Date</th>\n",
       "      <th>DailyRainfallTotal</th>\n",
       "      <th>Highest30MinRainfall</th>\n",
       "      <th>Highest60MinRainfall</th>\n",
       "      <th>Highest120MinRainfall</th>\n",
       "      <th>MeanTemperature</th>\n",
       "      <th>MaximumTemperature</th>\n",
       "      <th>MinimumTemperature</th>\n",
       "      <th>MeanWindSpeed</th>\n",
       "      <th>MaxWindSpeed</th>\n",
       "    </tr>\n",
       "  </thead>\n",
       "  <tbody>\n",
       "    <tr>\n",
       "      <th>0</th>\n",
       "      <td>0</td>\n",
       "      <td>2018-06-01</td>\n",
       "      <td>16.4</td>\n",
       "      <td>5.0</td>\n",
       "      <td>8.4</td>\n",
       "      <td>13.6</td>\n",
       "      <td>28.1</td>\n",
       "      <td>30.1</td>\n",
       "      <td>24.5</td>\n",
       "      <td>9.0</td>\n",
       "      <td>42.1</td>\n",
       "    </tr>\n",
       "    <tr>\n",
       "      <th>1</th>\n",
       "      <td>1</td>\n",
       "      <td>2018-06-02</td>\n",
       "      <td>5.8</td>\n",
       "      <td>1.4</td>\n",
       "      <td>2.6</td>\n",
       "      <td>4.6</td>\n",
       "      <td>27.7</td>\n",
       "      <td>29.7</td>\n",
       "      <td>24.1</td>\n",
       "      <td>9.7</td>\n",
       "      <td>58.7</td>\n",
       "    </tr>\n",
       "    <tr>\n",
       "      <th>2</th>\n",
       "      <td>2</td>\n",
       "      <td>2018-06-03</td>\n",
       "      <td>0.0</td>\n",
       "      <td>0.0</td>\n",
       "      <td>0.0</td>\n",
       "      <td>0.0</td>\n",
       "      <td>29.1</td>\n",
       "      <td>31.8</td>\n",
       "      <td>26.8</td>\n",
       "      <td>9.7</td>\n",
       "      <td>24.5</td>\n",
       "    </tr>\n",
       "    <tr>\n",
       "      <th>3</th>\n",
       "      <td>3</td>\n",
       "      <td>2018-06-04</td>\n",
       "      <td>0.6</td>\n",
       "      <td>0.6</td>\n",
       "      <td>0.6</td>\n",
       "      <td>0.6</td>\n",
       "      <td>29.6</td>\n",
       "      <td>31.2</td>\n",
       "      <td>26.0</td>\n",
       "      <td>9.7</td>\n",
       "      <td>36.7</td>\n",
       "    </tr>\n",
       "    <tr>\n",
       "      <th>4</th>\n",
       "      <td>4</td>\n",
       "      <td>2018-06-05</td>\n",
       "      <td>0.0</td>\n",
       "      <td>0.0</td>\n",
       "      <td>0.0</td>\n",
       "      <td>0.0</td>\n",
       "      <td>30.0</td>\n",
       "      <td>31.7</td>\n",
       "      <td>28.3</td>\n",
       "      <td>9.7</td>\n",
       "      <td>24.5</td>\n",
       "    </tr>\n",
       "  </tbody>\n",
       "</table>\n",
       "</div>"
      ],
      "text/plain": [
       "   Unnamed: 0        Date  DailyRainfallTotal  Highest30MinRainfall  \\\n",
       "0           0  2018-06-01                16.4                   5.0   \n",
       "1           1  2018-06-02                 5.8                   1.4   \n",
       "2           2  2018-06-03                 0.0                   0.0   \n",
       "3           3  2018-06-04                 0.6                   0.6   \n",
       "4           4  2018-06-05                 0.0                   0.0   \n",
       "\n",
       "   Highest60MinRainfall  Highest120MinRainfall  MeanTemperature  \\\n",
       "0                   8.4                   13.6             28.1   \n",
       "1                   2.6                    4.6             27.7   \n",
       "2                   0.0                    0.0             29.1   \n",
       "3                   0.6                    0.6             29.6   \n",
       "4                   0.0                    0.0             30.0   \n",
       "\n",
       "   MaximumTemperature  MinimumTemperature  MeanWindSpeed  MaxWindSpeed  \n",
       "0                30.1                24.5            9.0          42.1  \n",
       "1                29.7                24.1            9.7          58.7  \n",
       "2                31.8                26.8            9.7          24.5  \n",
       "3                31.2                26.0            9.7          36.7  \n",
       "4                31.7                28.3            9.7          24.5  "
      ]
     },
     "execution_count": 8,
     "metadata": {},
     "output_type": "execute_result"
    }
   ],
   "source": [
    "weather.head()"
   ]
  },
  {
   "cell_type": "code",
   "execution_count": 9,
   "metadata": {},
   "outputs": [],
   "source": [
    "merged = data.merge(how=\"left\", on=\"Date\", right=weather)"
   ]
  },
  {
   "cell_type": "markdown",
   "metadata": {},
   "source": [
    "## Only Hourly Energy has NA values\n"
   ]
  },
  {
   "cell_type": "markdown",
   "metadata": {},
   "source": [
    "Lets start by dropping na columns, creating a train and test set, and testing the accuracy of different methods"
   ]
  },
  {
   "cell_type": "code",
   "execution_count": 10,
   "metadata": {
    "scrolled": true
   },
   "outputs": [
    {
     "data": {
      "text/html": [
       "<div>\n",
       "<style scoped>\n",
       "    .dataframe tbody tr th:only-of-type {\n",
       "        vertical-align: middle;\n",
       "    }\n",
       "\n",
       "    .dataframe tbody tr th {\n",
       "        vertical-align: top;\n",
       "    }\n",
       "\n",
       "    .dataframe thead th {\n",
       "        text-align: right;\n",
       "    }\n",
       "</style>\n",
       "<table border=\"1\" class=\"dataframe\">\n",
       "  <thead>\n",
       "    <tr style=\"text-align: right;\">\n",
       "      <th></th>\n",
       "      <th>Date</th>\n",
       "      <th>Day of Week</th>\n",
       "      <th>Hour</th>\n",
       "      <th>WorkGroup</th>\n",
       "      <th>TotalEnergy</th>\n",
       "      <th>HourlyEnergy</th>\n",
       "      <th>Name</th>\n",
       "      <th>Weekend_Indicator</th>\n",
       "      <th>Treatment_A_Indicator</th>\n",
       "      <th>Treatment_B_Indicator</th>\n",
       "      <th>...</th>\n",
       "      <th>Unnamed: 0</th>\n",
       "      <th>DailyRainfallTotal</th>\n",
       "      <th>Highest30MinRainfall</th>\n",
       "      <th>Highest60MinRainfall</th>\n",
       "      <th>Highest120MinRainfall</th>\n",
       "      <th>MeanTemperature</th>\n",
       "      <th>MaximumTemperature</th>\n",
       "      <th>MinimumTemperature</th>\n",
       "      <th>MeanWindSpeed</th>\n",
       "      <th>MaxWindSpeed</th>\n",
       "    </tr>\n",
       "  </thead>\n",
       "  <tbody>\n",
       "    <tr>\n",
       "      <th>0</th>\n",
       "      <td>2018-06-01</td>\n",
       "      <td>Friday</td>\n",
       "      <td>8.0</td>\n",
       "      <td>WORKGROUP-01</td>\n",
       "      <td>11.22</td>\n",
       "      <td>NaN</td>\n",
       "      <td>Ken</td>\n",
       "      <td>0</td>\n",
       "      <td>0</td>\n",
       "      <td>0</td>\n",
       "      <td>...</td>\n",
       "      <td>0</td>\n",
       "      <td>16.4</td>\n",
       "      <td>5.0</td>\n",
       "      <td>8.4</td>\n",
       "      <td>13.6</td>\n",
       "      <td>28.1</td>\n",
       "      <td>30.1</td>\n",
       "      <td>24.5</td>\n",
       "      <td>9.0</td>\n",
       "      <td>42.1</td>\n",
       "    </tr>\n",
       "    <tr>\n",
       "      <th>1</th>\n",
       "      <td>2018-06-01</td>\n",
       "      <td>Friday</td>\n",
       "      <td>9.0</td>\n",
       "      <td>WORKGROUP-01</td>\n",
       "      <td>0.00</td>\n",
       "      <td>NaN</td>\n",
       "      <td>Ken</td>\n",
       "      <td>0</td>\n",
       "      <td>0</td>\n",
       "      <td>0</td>\n",
       "      <td>...</td>\n",
       "      <td>0</td>\n",
       "      <td>16.4</td>\n",
       "      <td>5.0</td>\n",
       "      <td>8.4</td>\n",
       "      <td>13.6</td>\n",
       "      <td>28.1</td>\n",
       "      <td>30.1</td>\n",
       "      <td>24.5</td>\n",
       "      <td>9.0</td>\n",
       "      <td>42.1</td>\n",
       "    </tr>\n",
       "    <tr>\n",
       "      <th>2</th>\n",
       "      <td>2018-06-01</td>\n",
       "      <td>Friday</td>\n",
       "      <td>10.0</td>\n",
       "      <td>WORKGROUP-01</td>\n",
       "      <td>0.22</td>\n",
       "      <td>0.22</td>\n",
       "      <td>Ken</td>\n",
       "      <td>0</td>\n",
       "      <td>0</td>\n",
       "      <td>0</td>\n",
       "      <td>...</td>\n",
       "      <td>0</td>\n",
       "      <td>16.4</td>\n",
       "      <td>5.0</td>\n",
       "      <td>8.4</td>\n",
       "      <td>13.6</td>\n",
       "      <td>28.1</td>\n",
       "      <td>30.1</td>\n",
       "      <td>24.5</td>\n",
       "      <td>9.0</td>\n",
       "      <td>42.1</td>\n",
       "    </tr>\n",
       "    <tr>\n",
       "      <th>3</th>\n",
       "      <td>2018-06-01</td>\n",
       "      <td>Friday</td>\n",
       "      <td>11.0</td>\n",
       "      <td>WORKGROUP-01</td>\n",
       "      <td>0.45</td>\n",
       "      <td>0.23</td>\n",
       "      <td>Ken</td>\n",
       "      <td>0</td>\n",
       "      <td>0</td>\n",
       "      <td>0</td>\n",
       "      <td>...</td>\n",
       "      <td>0</td>\n",
       "      <td>16.4</td>\n",
       "      <td>5.0</td>\n",
       "      <td>8.4</td>\n",
       "      <td>13.6</td>\n",
       "      <td>28.1</td>\n",
       "      <td>30.1</td>\n",
       "      <td>24.5</td>\n",
       "      <td>9.0</td>\n",
       "      <td>42.1</td>\n",
       "    </tr>\n",
       "    <tr>\n",
       "      <th>4</th>\n",
       "      <td>2018-06-01</td>\n",
       "      <td>Friday</td>\n",
       "      <td>12.0</td>\n",
       "      <td>WORKGROUP-01</td>\n",
       "      <td>0.68</td>\n",
       "      <td>0.23</td>\n",
       "      <td>Ken</td>\n",
       "      <td>0</td>\n",
       "      <td>0</td>\n",
       "      <td>0</td>\n",
       "      <td>...</td>\n",
       "      <td>0</td>\n",
       "      <td>16.4</td>\n",
       "      <td>5.0</td>\n",
       "      <td>8.4</td>\n",
       "      <td>13.6</td>\n",
       "      <td>28.1</td>\n",
       "      <td>30.1</td>\n",
       "      <td>24.5</td>\n",
       "      <td>9.0</td>\n",
       "      <td>42.1</td>\n",
       "    </tr>\n",
       "  </tbody>\n",
       "</table>\n",
       "<p>5 rows × 26 columns</p>\n",
       "</div>"
      ],
      "text/plain": [
       "         Date Day of Week  Hour     WorkGroup  TotalEnergy  HourlyEnergy Name  \\\n",
       "0  2018-06-01      Friday   8.0  WORKGROUP-01        11.22           NaN  Ken   \n",
       "1  2018-06-01      Friday   9.0  WORKGROUP-01         0.00           NaN  Ken   \n",
       "2  2018-06-01      Friday  10.0  WORKGROUP-01         0.22          0.22  Ken   \n",
       "3  2018-06-01      Friday  11.0  WORKGROUP-01         0.45          0.23  Ken   \n",
       "4  2018-06-01      Friday  12.0  WORKGROUP-01         0.68          0.23  Ken   \n",
       "\n",
       "   Weekend_Indicator  Treatment_A_Indicator  Treatment_B_Indicator  ...  \\\n",
       "0                  0                      0                      0  ...   \n",
       "1                  0                      0                      0  ...   \n",
       "2                  0                      0                      0  ...   \n",
       "3                  0                      0                      0  ...   \n",
       "4                  0                      0                      0  ...   \n",
       "\n",
       "   Unnamed: 0  DailyRainfallTotal  Highest30MinRainfall  Highest60MinRainfall  \\\n",
       "0           0                16.4                   5.0                   8.4   \n",
       "1           0                16.4                   5.0                   8.4   \n",
       "2           0                16.4                   5.0                   8.4   \n",
       "3           0                16.4                   5.0                   8.4   \n",
       "4           0                16.4                   5.0                   8.4   \n",
       "\n",
       "   Highest120MinRainfall  MeanTemperature  MaximumTemperature  \\\n",
       "0                   13.6             28.1                30.1   \n",
       "1                   13.6             28.1                30.1   \n",
       "2                   13.6             28.1                30.1   \n",
       "3                   13.6             28.1                30.1   \n",
       "4                   13.6             28.1                30.1   \n",
       "\n",
       "   MinimumTemperature  MeanWindSpeed  MaxWindSpeed  \n",
       "0                24.5            9.0          42.1  \n",
       "1                24.5            9.0          42.1  \n",
       "2                24.5            9.0          42.1  \n",
       "3                24.5            9.0          42.1  \n",
       "4                24.5            9.0          42.1  \n",
       "\n",
       "[5 rows x 26 columns]"
      ]
     },
     "execution_count": 10,
     "metadata": {},
     "output_type": "execute_result"
    }
   ],
   "source": [
    "merged.head()"
   ]
  },
  {
   "cell_type": "code",
   "execution_count": 11,
   "metadata": {},
   "outputs": [],
   "source": [
    "no_na = merged.dropna()"
   ]
  },
  {
   "cell_type": "code",
   "execution_count": 12,
   "metadata": {
    "scrolled": true
   },
   "outputs": [
    {
     "name": "stderr",
     "output_type": "stream",
     "text": [
      "/anaconda3/lib/python3.7/site-packages/pandas/core/indexing.py:362: SettingWithCopyWarning: \n",
      "A value is trying to be set on a copy of a slice from a DataFrame.\n",
      "Try using .loc[row_indexer,col_indexer] = value instead\n",
      "\n",
      "See the caveats in the documentation: http://pandas.pydata.org/pandas-docs/stable/indexing.html#indexing-view-versus-copy\n",
      "  self.obj[key] = _infer_fill_value(value)\n",
      "/anaconda3/lib/python3.7/site-packages/pandas/core/indexing.py:543: SettingWithCopyWarning: \n",
      "A value is trying to be set on a copy of a slice from a DataFrame.\n",
      "Try using .loc[row_indexer,col_indexer] = value instead\n",
      "\n",
      "See the caveats in the documentation: http://pandas.pydata.org/pandas-docs/stable/indexing.html#indexing-view-versus-copy\n",
      "  self.obj[item] = s\n"
     ]
    }
   ],
   "source": [
    "no_na.loc[:,'Datetime'] = pd.to_datetime(no_na.loc[:,'Date'], format=\"%Y-%m-%d\")"
   ]
  },
  {
   "cell_type": "code",
   "execution_count": 13,
   "metadata": {},
   "outputs": [
    {
     "data": {
      "text/html": [
       "<div>\n",
       "<style scoped>\n",
       "    .dataframe tbody tr th:only-of-type {\n",
       "        vertical-align: middle;\n",
       "    }\n",
       "\n",
       "    .dataframe tbody tr th {\n",
       "        vertical-align: top;\n",
       "    }\n",
       "\n",
       "    .dataframe thead th {\n",
       "        text-align: right;\n",
       "    }\n",
       "</style>\n",
       "<table border=\"1\" class=\"dataframe\">\n",
       "  <thead>\n",
       "    <tr style=\"text-align: right;\">\n",
       "      <th></th>\n",
       "      <th>Date</th>\n",
       "      <th>Day of Week</th>\n",
       "      <th>Hour</th>\n",
       "      <th>WorkGroup</th>\n",
       "      <th>TotalEnergy</th>\n",
       "      <th>HourlyEnergy</th>\n",
       "      <th>Name</th>\n",
       "      <th>Weekend_Indicator</th>\n",
       "      <th>Treatment_A_Indicator</th>\n",
       "      <th>Treatment_B_Indicator</th>\n",
       "      <th>...</th>\n",
       "      <th>DailyRainfallTotal</th>\n",
       "      <th>Highest30MinRainfall</th>\n",
       "      <th>Highest60MinRainfall</th>\n",
       "      <th>Highest120MinRainfall</th>\n",
       "      <th>MeanTemperature</th>\n",
       "      <th>MaximumTemperature</th>\n",
       "      <th>MinimumTemperature</th>\n",
       "      <th>MeanWindSpeed</th>\n",
       "      <th>MaxWindSpeed</th>\n",
       "      <th>Datetime</th>\n",
       "    </tr>\n",
       "  </thead>\n",
       "  <tbody>\n",
       "    <tr>\n",
       "      <th>2</th>\n",
       "      <td>2018-06-01</td>\n",
       "      <td>Friday</td>\n",
       "      <td>10.0</td>\n",
       "      <td>WORKGROUP-01</td>\n",
       "      <td>0.22</td>\n",
       "      <td>0.22</td>\n",
       "      <td>Ken</td>\n",
       "      <td>0</td>\n",
       "      <td>0</td>\n",
       "      <td>0</td>\n",
       "      <td>...</td>\n",
       "      <td>16.4</td>\n",
       "      <td>5.0</td>\n",
       "      <td>8.4</td>\n",
       "      <td>13.6</td>\n",
       "      <td>28.1</td>\n",
       "      <td>30.1</td>\n",
       "      <td>24.5</td>\n",
       "      <td>9.0</td>\n",
       "      <td>42.1</td>\n",
       "      <td>2018-06-01</td>\n",
       "    </tr>\n",
       "    <tr>\n",
       "      <th>3</th>\n",
       "      <td>2018-06-01</td>\n",
       "      <td>Friday</td>\n",
       "      <td>11.0</td>\n",
       "      <td>WORKGROUP-01</td>\n",
       "      <td>0.45</td>\n",
       "      <td>0.23</td>\n",
       "      <td>Ken</td>\n",
       "      <td>0</td>\n",
       "      <td>0</td>\n",
       "      <td>0</td>\n",
       "      <td>...</td>\n",
       "      <td>16.4</td>\n",
       "      <td>5.0</td>\n",
       "      <td>8.4</td>\n",
       "      <td>13.6</td>\n",
       "      <td>28.1</td>\n",
       "      <td>30.1</td>\n",
       "      <td>24.5</td>\n",
       "      <td>9.0</td>\n",
       "      <td>42.1</td>\n",
       "      <td>2018-06-01</td>\n",
       "    </tr>\n",
       "    <tr>\n",
       "      <th>4</th>\n",
       "      <td>2018-06-01</td>\n",
       "      <td>Friday</td>\n",
       "      <td>12.0</td>\n",
       "      <td>WORKGROUP-01</td>\n",
       "      <td>0.68</td>\n",
       "      <td>0.23</td>\n",
       "      <td>Ken</td>\n",
       "      <td>0</td>\n",
       "      <td>0</td>\n",
       "      <td>0</td>\n",
       "      <td>...</td>\n",
       "      <td>16.4</td>\n",
       "      <td>5.0</td>\n",
       "      <td>8.4</td>\n",
       "      <td>13.6</td>\n",
       "      <td>28.1</td>\n",
       "      <td>30.1</td>\n",
       "      <td>24.5</td>\n",
       "      <td>9.0</td>\n",
       "      <td>42.1</td>\n",
       "      <td>2018-06-01</td>\n",
       "    </tr>\n",
       "    <tr>\n",
       "      <th>5</th>\n",
       "      <td>2018-06-01</td>\n",
       "      <td>Friday</td>\n",
       "      <td>13.0</td>\n",
       "      <td>WORKGROUP-01</td>\n",
       "      <td>0.91</td>\n",
       "      <td>0.23</td>\n",
       "      <td>Ken</td>\n",
       "      <td>0</td>\n",
       "      <td>0</td>\n",
       "      <td>0</td>\n",
       "      <td>...</td>\n",
       "      <td>16.4</td>\n",
       "      <td>5.0</td>\n",
       "      <td>8.4</td>\n",
       "      <td>13.6</td>\n",
       "      <td>28.1</td>\n",
       "      <td>30.1</td>\n",
       "      <td>24.5</td>\n",
       "      <td>9.0</td>\n",
       "      <td>42.1</td>\n",
       "      <td>2018-06-01</td>\n",
       "    </tr>\n",
       "    <tr>\n",
       "      <th>6</th>\n",
       "      <td>2018-06-01</td>\n",
       "      <td>Friday</td>\n",
       "      <td>14.0</td>\n",
       "      <td>WORKGROUP-01</td>\n",
       "      <td>1.14</td>\n",
       "      <td>0.23</td>\n",
       "      <td>Ken</td>\n",
       "      <td>0</td>\n",
       "      <td>0</td>\n",
       "      <td>0</td>\n",
       "      <td>...</td>\n",
       "      <td>16.4</td>\n",
       "      <td>5.0</td>\n",
       "      <td>8.4</td>\n",
       "      <td>13.6</td>\n",
       "      <td>28.1</td>\n",
       "      <td>30.1</td>\n",
       "      <td>24.5</td>\n",
       "      <td>9.0</td>\n",
       "      <td>42.1</td>\n",
       "      <td>2018-06-01</td>\n",
       "    </tr>\n",
       "  </tbody>\n",
       "</table>\n",
       "<p>5 rows × 27 columns</p>\n",
       "</div>"
      ],
      "text/plain": [
       "         Date Day of Week  Hour     WorkGroup  TotalEnergy  HourlyEnergy Name  \\\n",
       "2  2018-06-01      Friday  10.0  WORKGROUP-01         0.22          0.22  Ken   \n",
       "3  2018-06-01      Friday  11.0  WORKGROUP-01         0.45          0.23  Ken   \n",
       "4  2018-06-01      Friday  12.0  WORKGROUP-01         0.68          0.23  Ken   \n",
       "5  2018-06-01      Friday  13.0  WORKGROUP-01         0.91          0.23  Ken   \n",
       "6  2018-06-01      Friday  14.0  WORKGROUP-01         1.14          0.23  Ken   \n",
       "\n",
       "   Weekend_Indicator  Treatment_A_Indicator  Treatment_B_Indicator  ...  \\\n",
       "2                  0                      0                      0  ...   \n",
       "3                  0                      0                      0  ...   \n",
       "4                  0                      0                      0  ...   \n",
       "5                  0                      0                      0  ...   \n",
       "6                  0                      0                      0  ...   \n",
       "\n",
       "   DailyRainfallTotal  Highest30MinRainfall  Highest60MinRainfall  \\\n",
       "2                16.4                   5.0                   8.4   \n",
       "3                16.4                   5.0                   8.4   \n",
       "4                16.4                   5.0                   8.4   \n",
       "5                16.4                   5.0                   8.4   \n",
       "6                16.4                   5.0                   8.4   \n",
       "\n",
       "   Highest120MinRainfall  MeanTemperature  MaximumTemperature  \\\n",
       "2                   13.6             28.1                30.1   \n",
       "3                   13.6             28.1                30.1   \n",
       "4                   13.6             28.1                30.1   \n",
       "5                   13.6             28.1                30.1   \n",
       "6                   13.6             28.1                30.1   \n",
       "\n",
       "   MinimumTemperature  MeanWindSpeed  MaxWindSpeed   Datetime  \n",
       "2                24.5            9.0          42.1 2018-06-01  \n",
       "3                24.5            9.0          42.1 2018-06-01  \n",
       "4                24.5            9.0          42.1 2018-06-01  \n",
       "5                24.5            9.0          42.1 2018-06-01  \n",
       "6                24.5            9.0          42.1 2018-06-01  \n",
       "\n",
       "[5 rows x 27 columns]"
      ]
     },
     "execution_count": 13,
     "metadata": {},
     "output_type": "execute_result"
    }
   ],
   "source": [
    "no_na.head()"
   ]
  },
  {
   "cell_type": "code",
   "execution_count": 15,
   "metadata": {},
   "outputs": [
    {
     "data": {
      "text/plain": [
       "236198"
      ]
     },
     "execution_count": 15,
     "metadata": {},
     "output_type": "execute_result"
    }
   ],
   "source": [
    "len(no_na)"
   ]
  },
  {
   "cell_type": "code",
   "execution_count": 17,
   "metadata": {},
   "outputs": [],
   "source": [
    "no_na = no_na[no_na['OutOfOffice'] == 0]"
   ]
  },
  {
   "cell_type": "code",
   "execution_count": 18,
   "metadata": {},
   "outputs": [
    {
     "data": {
      "text/plain": [
       "Index(['Date', 'Day of Week', 'Hour', 'WorkGroup', 'TotalEnergy',\n",
       "       'HourlyEnergy', 'Name', 'Weekend_Indicator', 'Treatment_A_Indicator',\n",
       "       'Treatment_B_Indicator', 'Treatment_control_Indicator',\n",
       "       'Treatment_Administered_Indicator', 'NonParticipant', 'DailyLoginCount',\n",
       "       'DailyDurationCount', 'OutOfOffice', 'Unnamed: 0', 'DailyRainfallTotal',\n",
       "       'Highest30MinRainfall', 'Highest60MinRainfall', 'Highest120MinRainfall',\n",
       "       'MeanTemperature', 'MaximumTemperature', 'MinimumTemperature',\n",
       "       'MeanWindSpeed', 'MaxWindSpeed', 'Datetime'],\n",
       "      dtype='object')"
      ]
     },
     "execution_count": 18,
     "metadata": {},
     "output_type": "execute_result"
    }
   ],
   "source": [
    "no_na.columns"
   ]
  },
  {
   "cell_type": "markdown",
   "metadata": {},
   "source": [
    "# Lets start doing some models"
   ]
  },
  {
   "cell_type": "markdown",
   "metadata": {},
   "source": [
    "## Pretreatment"
   ]
  },
  {
   "cell_type": "code",
   "execution_count": 141,
   "metadata": {},
   "outputs": [],
   "source": [
    "start_date = pd.to_datetime('2018-08-01', format='%Y-%m-%d')\n",
    "end_date = pd.to_datetime('2018-10-10', format='%Y-%m-%d')\n",
    "\n",
    "is_before = (no_na['Datetime'] <= start_date)\n",
    "is_during = ((no_na['Datetime'] > start_date) & (no_na['Datetime'] <= end_date))\n",
    "is_after = (no_na['Datetime'] > end_date)"
   ]
  },
  {
   "cell_type": "code",
   "execution_count": 142,
   "metadata": {},
   "outputs": [],
   "source": [
    "#lets start with the first period\n",
    "period_data = no_na[is_before]\n",
    "y = period_data[\"HourlyEnergy\"]\n",
    "X = period_data.drop(columns=[\"TotalEnergy\", \"Date\", \"WorkGroup\"])\n",
    "X = pd.concat([X, pd.get_dummies(X['Name'])], axis=1)\n",
    "X = X.dropna(axis=1)\n",
    "X = pd.concat([X, pd.get_dummies(X['Day of Week'])], axis=1)\n",
    "X = X.drop(columns = ['Day of Week', 'OutOfOffice', 'Treatment_A_Indicator', \n",
    "                      'Treatment_B_Indicator', 'Treatment_control_Indicator', 'Treatment_Administered_Indicator',\n",
    "                      'NonParticipant', 'DailyLoginCount', 'DailyDurationCount'])\n",
    "X['Hour'] = X['Hour'].astype(int)\n",
    "X = pd.concat([X, pd.get_dummies(X['Hour'], prefix='Hour')], axis=1)\n",
    "X = X.drop(columns = ['Datetime', 'Hour'])"
   ]
  },
  {
   "cell_type": "code",
   "execution_count": 143,
   "metadata": {},
   "outputs": [],
   "source": [
    "X = X.rename(columns={'Asit Mishra': \"Asit\", 'Baison Ning': \"Baison\", 'Caren Liew': \"Caren\", 'Toby Cheung': 'Toby', 'You Chun':'You'})\n",
    "X = X.drop(columns=['Name'])"
   ]
  },
  {
   "cell_type": "code",
   "execution_count": 144,
   "metadata": {
    "scrolled": true
   },
   "outputs": [
    {
     "data": {
      "text/plain": [
       "Index(['HourlyEnergy', 'Weekend_Indicator', 'Unnamed: 0', 'DailyRainfallTotal',\n",
       "       'Highest30MinRainfall', 'Highest60MinRainfall', 'Highest120MinRainfall',\n",
       "       'MeanTemperature', 'MaximumTemperature', 'MinimumTemperature',\n",
       "       'MeanWindSpeed', 'MaxWindSpeed', 'Ajeet', 'Ashish', 'Asit', 'Baison',\n",
       "       'Benjamin', 'Caren', 'Chayle', 'Christopher', 'Daphne', 'Edwin', 'Giri',\n",
       "       'Hoan', 'Keith', 'Ken', 'Manish', 'Ola', 'Pandarasamy', 'Prakhar',\n",
       "       'Ramit', 'Sivaraam', 'Sneha', 'Toby', 'Vicky', 'Viveka', 'You',\n",
       "       'Zuraimi', 'Friday', 'Monday', 'Saturday', 'Sunday', 'Thursday',\n",
       "       'Tuesday', 'Wednesday', 'Hour_0', 'Hour_1', 'Hour_2', 'Hour_3',\n",
       "       'Hour_4', 'Hour_5', 'Hour_6', 'Hour_7', 'Hour_8', 'Hour_9', 'Hour_10',\n",
       "       'Hour_11', 'Hour_12', 'Hour_13', 'Hour_14', 'Hour_15', 'Hour_16',\n",
       "       'Hour_17', 'Hour_18', 'Hour_19', 'Hour_20', 'Hour_21', 'Hour_22',\n",
       "       'Hour_23'],\n",
       "      dtype='object')"
      ]
     },
     "execution_count": 144,
     "metadata": {},
     "output_type": "execute_result"
    }
   ],
   "source": [
    "X.columns"
   ]
  },
  {
   "cell_type": "code",
   "execution_count": 145,
   "metadata": {
    "scrolled": false
   },
   "outputs": [],
   "source": [
    "X_train, X_test, y_train, y_test = train_test_split(X, y, test_size=0.2, random_state=1)"
   ]
  },
  {
   "cell_type": "code",
   "execution_count": 146,
   "metadata": {},
   "outputs": [],
   "source": [
    "#lets first do a linear regression using the new module"
   ]
  },
  {
   "cell_type": "code",
   "execution_count": 147,
   "metadata": {},
   "outputs": [],
   "source": [
    "#formula = 'HourlyEnergy ~ '\n",
    "#start = True\n",
    "#for each in X.columns:\n",
    "#    if start:\n",
    "#        start = False\n",
    "#        formula = formula + each\n",
    "#        continue\n",
    "#    if each == 'HourlyEnergy':\n",
    " #       continue\n",
    "#    formula = formula + '+' + each"
   ]
  },
  {
   "cell_type": "code",
   "execution_count": 148,
   "metadata": {},
   "outputs": [
    {
     "data": {
      "text/plain": [
       "'HourlyEnergy ~ DailyRainfallTotal+Highest30MinRainfall+Highest60MinRainfall+Highest120MinRainfall+MeanTemperature+MaximumTemperature+MinimumTemperature+MeanWindSpeed+MaxWindSpeed+Ajeet+Ashish+Asit+Baison+Benjamin+Caren+Chayle+Christopher+Daphne+Edwin+Giri+Hoan+Keith+Ken+Manish+Ola+Pandarasamy+Prakhar+Ramit+Sivaraam+Sneha+Toby+Vicky+Viveka+You+Zuraimi+Friday+Monday+Saturday+Sunday+Thursday+Tuesday+Wednesday+Hour_0+Hour_1+Hour_2+Hour_3+Hour_4+Hour_5+Hour_6+Hour_7+Hour_8+Hour_9+Hour_10+Hour_11+Hour_12+Hour_13+Hour_14+Hour_15+Hour_16+Hour_17+Hour_18+Hour_19+Hour_20+Hour_21+Hour_22+Hour_23'"
      ]
     },
     "execution_count": 148,
     "metadata": {},
     "output_type": "execute_result"
    }
   ],
   "source": [
    "formula"
   ]
  },
  {
   "cell_type": "code",
   "execution_count": 149,
   "metadata": {},
   "outputs": [],
   "source": [
    "\n",
    "formula_pre = 'HourlyEnergy ~ DailyRainfallTotal+Highest30MinRainfall+Highest60MinRainfall+Highest120MinRainfall+MeanTemperature+MaximumTemperature+MinimumTemperature+MeanWindSpeed+MaxWindSpeed+Ajeet+Ashish+Asit+Baison+Benjamin+Caren+Chayle+Christopher+Daphne+Edwin+Giri+Hoan+Keith+Ken+Manish+Ola+Pandarasamy+Prakhar+Ramit+Sivaraam+Sneha+Toby+Vicky+Viveka+You+Zuraimi+Friday+Monday+Saturday+Sunday+Thursday+Tuesday+Wednesday+Hour_0+Hour_1+Hour_2+Hour_3+Hour_4+Hour_5+Hour_6+Hour_7+Hour_8+Hour_9+Hour_10+Hour_11+Hour_12+Hour_13+Hour_14+Hour_15+Hour_16+Hour_17+Hour_18+Hour_19+Hour_20+Hour_21+Hour_22+Hour_23'\n"
   ]
  },
  {
   "cell_type": "code",
   "execution_count": 150,
   "metadata": {},
   "outputs": [
    {
     "data": {
      "text/plain": [
       "'HourlyEnergy ~ DailyRainfallTotal+Highest30MinRainfall+Highest60MinRainfall+Highest120MinRainfall+MeanTemperature+MaximumTemperature+MinimumTemperature+MeanWindSpeed+MaxWindSpeed+Ajeet+Ashish+Asit+Baison+Benjamin+Caren+Chayle+Christopher+Daphne+Edwin+Giri+Hoan+Keith+Ken+Manish+Ola+Pandarasamy+Prakhar+Ramit+Sivaraam+Sneha+Toby+Vicky+Viveka+You+Zuraimi+Friday+Monday+Saturday+Sunday+Thursday+Tuesday+Wednesday+Hour_0+Hour_1+Hour_2+Hour_3+Hour_4+Hour_5+Hour_6+Hour_7+Hour_8+Hour_9+Hour_10+Hour_11+Hour_12+Hour_13+Hour_14+Hour_15+Hour_16+Hour_17+Hour_18+Hour_19+Hour_20+Hour_21+Hour_22+Hour_23'"
      ]
     },
     "execution_count": 150,
     "metadata": {},
     "output_type": "execute_result"
    }
   ],
   "source": [
    "formula_pre"
   ]
  },
  {
   "cell_type": "code",
   "execution_count": 151,
   "metadata": {},
   "outputs": [
    {
     "data": {
      "text/plain": [
       "Index(['HourlyEnergy', 'Weekend_Indicator', 'Unnamed: 0', 'DailyRainfallTotal',\n",
       "       'Highest30MinRainfall', 'Highest60MinRainfall', 'Highest120MinRainfall',\n",
       "       'MeanTemperature', 'MaximumTemperature', 'MinimumTemperature',\n",
       "       'MeanWindSpeed', 'MaxWindSpeed', 'Ajeet', 'Ashish', 'Asit', 'Baison',\n",
       "       'Benjamin', 'Caren', 'Chayle', 'Christopher', 'Daphne', 'Edwin', 'Giri',\n",
       "       'Hoan', 'Keith', 'Ken', 'Manish', 'Ola', 'Pandarasamy', 'Prakhar',\n",
       "       'Ramit', 'Sivaraam', 'Sneha', 'Toby', 'Vicky', 'Viveka', 'You',\n",
       "       'Zuraimi', 'Friday', 'Monday', 'Saturday', 'Sunday', 'Thursday',\n",
       "       'Tuesday', 'Wednesday', 'Hour_0', 'Hour_1', 'Hour_2', 'Hour_3',\n",
       "       'Hour_4', 'Hour_5', 'Hour_6', 'Hour_7', 'Hour_8', 'Hour_9', 'Hour_10',\n",
       "       'Hour_11', 'Hour_12', 'Hour_13', 'Hour_14', 'Hour_15', 'Hour_16',\n",
       "       'Hour_17', 'Hour_18', 'Hour_19', 'Hour_20', 'Hour_21', 'Hour_22',\n",
       "       'Hour_23'],\n",
       "      dtype='object')"
      ]
     },
     "execution_count": 151,
     "metadata": {},
     "output_type": "execute_result"
    }
   ],
   "source": [
    "X_train.columns"
   ]
  },
  {
   "cell_type": "code",
   "execution_count": 153,
   "metadata": {
    "scrolled": true
   },
   "outputs": [
    {
     "data": {
      "text/html": [
       "<table class=\"simpletable\">\n",
       "<caption>OLS Regression Results</caption>\n",
       "<tr>\n",
       "  <th>Dep. Variable:</th>      <td>HourlyEnergy</td>   <th>  R-squared:         </th> <td>   0.450</td> \n",
       "</tr>\n",
       "<tr>\n",
       "  <th>Model:</th>                   <td>OLS</td>       <th>  Adj. R-squared:    </th> <td>   0.449</td> \n",
       "</tr>\n",
       "<tr>\n",
       "  <th>Method:</th>             <td>Least Squares</td>  <th>  F-statistic:       </th> <td>   249.7</td> \n",
       "</tr>\n",
       "<tr>\n",
       "  <th>Date:</th>             <td>Thu, 19 Dec 2019</td> <th>  Prob (F-statistic):</th>  <td>  0.00</td>  \n",
       "</tr>\n",
       "<tr>\n",
       "  <th>Time:</th>                 <td>20:21:55</td>     <th>  Log-Likelihood:    </th> <td> -88413.</td> \n",
       "</tr>\n",
       "<tr>\n",
       "  <th>No. Observations:</th>      <td> 19260</td>      <th>  AIC:               </th> <td>1.770e+05</td>\n",
       "</tr>\n",
       "<tr>\n",
       "  <th>Df Residuals:</th>          <td> 19196</td>      <th>  BIC:               </th> <td>1.775e+05</td>\n",
       "</tr>\n",
       "<tr>\n",
       "  <th>Df Model:</th>              <td>    63</td>      <th>                     </th>     <td> </td>    \n",
       "</tr>\n",
       "<tr>\n",
       "  <th>Covariance Type:</th>      <td>nonrobust</td>    <th>                     </th>     <td> </td>    \n",
       "</tr>\n",
       "</table>\n",
       "<table class=\"simpletable\">\n",
       "<tr>\n",
       "            <td></td>               <th>coef</th>     <th>std err</th>      <th>t</th>      <th>P>|t|</th>  <th>[0.025</th>    <th>0.975]</th>  \n",
       "</tr>\n",
       "<tr>\n",
       "  <th>Intercept</th>             <td>   13.0514</td> <td>    6.270</td> <td>    2.081</td> <td> 0.037</td> <td>    0.761</td> <td>   25.342</td>\n",
       "</tr>\n",
       "<tr>\n",
       "  <th>DailyRainfallTotal</th>    <td>    0.5035</td> <td>    0.539</td> <td>    0.934</td> <td> 0.350</td> <td>   -0.553</td> <td>    1.560</td>\n",
       "</tr>\n",
       "<tr>\n",
       "  <th>Highest30MinRainfall</th>  <td>   -1.1839</td> <td>    0.507</td> <td>   -2.336</td> <td> 0.020</td> <td>   -2.177</td> <td>   -0.190</td>\n",
       "</tr>\n",
       "<tr>\n",
       "  <th>Highest60MinRainfall</th>  <td>    2.2099</td> <td>    0.828</td> <td>    2.670</td> <td> 0.008</td> <td>    0.588</td> <td>    3.832</td>\n",
       "</tr>\n",
       "<tr>\n",
       "  <th>Highest120MinRainfall</th> <td>   -1.6517</td> <td>    0.912</td> <td>   -1.811</td> <td> 0.070</td> <td>   -3.439</td> <td>    0.136</td>\n",
       "</tr>\n",
       "<tr>\n",
       "  <th>MeanTemperature</th>       <td>   -2.7081</td> <td>    0.701</td> <td>   -3.862</td> <td> 0.000</td> <td>   -4.083</td> <td>   -1.334</td>\n",
       "</tr>\n",
       "<tr>\n",
       "  <th>MaximumTemperature</th>    <td>    2.7647</td> <td>    0.549</td> <td>    5.038</td> <td> 0.000</td> <td>    1.689</td> <td>    3.840</td>\n",
       "</tr>\n",
       "<tr>\n",
       "  <th>MinimumTemperature</th>    <td>   -0.1487</td> <td>    0.250</td> <td>   -0.594</td> <td> 0.552</td> <td>   -0.639</td> <td>    0.342</td>\n",
       "</tr>\n",
       "<tr>\n",
       "  <th>MeanWindSpeed</th>         <td>    0.1813</td> <td>    0.101</td> <td>    1.793</td> <td> 0.073</td> <td>   -0.017</td> <td>    0.380</td>\n",
       "</tr>\n",
       "<tr>\n",
       "  <th>MaxWindSpeed</th>          <td>    0.0075</td> <td>    0.038</td> <td>    0.199</td> <td> 0.842</td> <td>   -0.066</td> <td>    0.081</td>\n",
       "</tr>\n",
       "<tr>\n",
       "  <th>Ajeet</th>                 <td>  -17.0675</td> <td>    0.993</td> <td>  -17.188</td> <td> 0.000</td> <td>  -19.014</td> <td>  -15.121</td>\n",
       "</tr>\n",
       "<tr>\n",
       "  <th>Ashish</th>                <td>   -7.4726</td> <td>    1.169</td> <td>   -6.393</td> <td> 0.000</td> <td>   -9.764</td> <td>   -5.181</td>\n",
       "</tr>\n",
       "<tr>\n",
       "  <th>Asit</th>                  <td>   -7.1879</td> <td>    0.943</td> <td>   -7.622</td> <td> 0.000</td> <td>   -9.036</td> <td>   -5.339</td>\n",
       "</tr>\n",
       "<tr>\n",
       "  <th>Baison</th>                <td>   -8.7619</td> <td>    0.966</td> <td>   -9.067</td> <td> 0.000</td> <td>  -10.656</td> <td>   -6.868</td>\n",
       "</tr>\n",
       "<tr>\n",
       "  <th>Benjamin</th>              <td>  -14.2560</td> <td>    3.126</td> <td>   -4.561</td> <td> 0.000</td> <td>  -20.382</td> <td>   -8.130</td>\n",
       "</tr>\n",
       "<tr>\n",
       "  <th>Caren</th>                 <td>   -7.6185</td> <td>    0.961</td> <td>   -7.930</td> <td> 0.000</td> <td>   -9.502</td> <td>   -5.735</td>\n",
       "</tr>\n",
       "<tr>\n",
       "  <th>Chayle</th>                <td>   25.1027</td> <td>    0.906</td> <td>   27.698</td> <td> 0.000</td> <td>   23.326</td> <td>   26.879</td>\n",
       "</tr>\n",
       "<tr>\n",
       "  <th>Christopher</th>           <td>   21.6738</td> <td>    0.909</td> <td>   23.837</td> <td> 0.000</td> <td>   19.892</td> <td>   23.456</td>\n",
       "</tr>\n",
       "<tr>\n",
       "  <th>Daphne</th>                <td>   28.5237</td> <td>    1.207</td> <td>   23.638</td> <td> 0.000</td> <td>   26.158</td> <td>   30.889</td>\n",
       "</tr>\n",
       "<tr>\n",
       "  <th>Edwin</th>                 <td>   29.3036</td> <td>    0.792</td> <td>   37.011</td> <td> 0.000</td> <td>   27.752</td> <td>   30.856</td>\n",
       "</tr>\n",
       "<tr>\n",
       "  <th>Giri</th>                  <td>  -12.7770</td> <td>    0.967</td> <td>  -13.210</td> <td> 0.000</td> <td>  -14.673</td> <td>  -10.881</td>\n",
       "</tr>\n",
       "<tr>\n",
       "  <th>Hoan</th>                  <td>  -14.5735</td> <td>    0.914</td> <td>  -15.944</td> <td> 0.000</td> <td>  -16.365</td> <td>  -12.782</td>\n",
       "</tr>\n",
       "<tr>\n",
       "  <th>Keith</th>                 <td>   -9.0923</td> <td>    0.919</td> <td>   -9.899</td> <td> 0.000</td> <td>  -10.893</td> <td>   -7.292</td>\n",
       "</tr>\n",
       "<tr>\n",
       "  <th>Ken</th>                   <td>    1.0860</td> <td>    1.256</td> <td>    0.865</td> <td> 0.387</td> <td>   -1.376</td> <td>    3.548</td>\n",
       "</tr>\n",
       "<tr>\n",
       "  <th>Manish</th>                <td>   -1.8329</td> <td>    0.817</td> <td>   -2.244</td> <td> 0.025</td> <td>   -3.434</td> <td>   -0.232</td>\n",
       "</tr>\n",
       "<tr>\n",
       "  <th>Ola</th>                   <td>  -13.7662</td> <td>    0.815</td> <td>  -16.888</td> <td> 0.000</td> <td>  -15.364</td> <td>  -12.168</td>\n",
       "</tr>\n",
       "<tr>\n",
       "  <th>Pandarasamy</th>           <td>   -7.3585</td> <td>    0.804</td> <td>   -9.154</td> <td> 0.000</td> <td>   -8.934</td> <td>   -5.783</td>\n",
       "</tr>\n",
       "<tr>\n",
       "  <th>Prakhar</th>               <td>    7.2289</td> <td>    0.626</td> <td>   11.552</td> <td> 0.000</td> <td>    6.002</td> <td>    8.455</td>\n",
       "</tr>\n",
       "<tr>\n",
       "  <th>Ramit</th>                 <td>    0.9409</td> <td>    0.955</td> <td>    0.985</td> <td> 0.325</td> <td>   -0.931</td> <td>    2.813</td>\n",
       "</tr>\n",
       "<tr>\n",
       "  <th>Sivaraam</th>              <td>   -3.2647</td> <td>    1.017</td> <td>   -3.210</td> <td> 0.001</td> <td>   -5.258</td> <td>   -1.271</td>\n",
       "</tr>\n",
       "<tr>\n",
       "  <th>Sneha</th>                 <td>    1.9720</td> <td>    0.985</td> <td>    2.002</td> <td> 0.045</td> <td>    0.042</td> <td>    3.902</td>\n",
       "</tr>\n",
       "<tr>\n",
       "  <th>Toby</th>                  <td>   54.7108</td> <td>    0.855</td> <td>   64.011</td> <td> 0.000</td> <td>   53.035</td> <td>   56.386</td>\n",
       "</tr>\n",
       "<tr>\n",
       "  <th>Vicky</th>                 <td>   18.8177</td> <td>    0.907</td> <td>   20.744</td> <td> 0.000</td> <td>   17.040</td> <td>   20.596</td>\n",
       "</tr>\n",
       "<tr>\n",
       "  <th>Viveka</th>                <td>  -21.5463</td> <td>    5.447</td> <td>   -3.955</td> <td> 0.000</td> <td>  -32.224</td> <td>  -10.869</td>\n",
       "</tr>\n",
       "<tr>\n",
       "  <th>You</th>                   <td>  -13.5619</td> <td>    1.016</td> <td>  -13.351</td> <td> 0.000</td> <td>  -15.553</td> <td>  -11.571</td>\n",
       "</tr>\n",
       "<tr>\n",
       "  <th>Zuraimi</th>               <td>  -16.1708</td> <td>    0.951</td> <td>  -17.003</td> <td> 0.000</td> <td>  -18.035</td> <td>  -14.307</td>\n",
       "</tr>\n",
       "<tr>\n",
       "  <th>Friday</th>                <td>   -3.9708</td> <td>    1.053</td> <td>   -3.770</td> <td> 0.000</td> <td>   -6.035</td> <td>   -1.906</td>\n",
       "</tr>\n",
       "<tr>\n",
       "  <th>Monday</th>                <td>    5.7159</td> <td>    1.071</td> <td>    5.339</td> <td> 0.000</td> <td>    3.617</td> <td>    7.815</td>\n",
       "</tr>\n",
       "<tr>\n",
       "  <th>Saturday</th>              <td>   -2.6069</td> <td>    1.116</td> <td>   -2.336</td> <td> 0.019</td> <td>   -4.794</td> <td>   -0.420</td>\n",
       "</tr>\n",
       "<tr>\n",
       "  <th>Sunday</th>                <td>    0.4895</td> <td>    1.061</td> <td>    0.461</td> <td> 0.645</td> <td>   -1.590</td> <td>    2.569</td>\n",
       "</tr>\n",
       "<tr>\n",
       "  <th>Thursday</th>              <td>    2.5494</td> <td>    0.960</td> <td>    2.655</td> <td> 0.008</td> <td>    0.667</td> <td>    4.431</td>\n",
       "</tr>\n",
       "<tr>\n",
       "  <th>Tuesday</th>               <td>    5.3941</td> <td>    1.026</td> <td>    5.259</td> <td> 0.000</td> <td>    3.384</td> <td>    7.404</td>\n",
       "</tr>\n",
       "<tr>\n",
       "  <th>Wednesday</th>             <td>    5.4802</td> <td>    0.885</td> <td>    6.195</td> <td> 0.000</td> <td>    3.746</td> <td>    7.214</td>\n",
       "</tr>\n",
       "<tr>\n",
       "  <th>Hour_0</th>                <td>   18.7667</td> <td>    0.860</td> <td>   21.824</td> <td> 0.000</td> <td>   17.081</td> <td>   20.452</td>\n",
       "</tr>\n",
       "<tr>\n",
       "  <th>Hour_1</th>                <td>   19.3811</td> <td>    0.851</td> <td>   22.763</td> <td> 0.000</td> <td>   17.712</td> <td>   21.050</td>\n",
       "</tr>\n",
       "<tr>\n",
       "  <th>Hour_2</th>                <td>   19.2177</td> <td>    0.858</td> <td>   22.396</td> <td> 0.000</td> <td>   17.536</td> <td>   20.900</td>\n",
       "</tr>\n",
       "<tr>\n",
       "  <th>Hour_3</th>                <td>   16.6242</td> <td>    0.856</td> <td>   19.425</td> <td> 0.000</td> <td>   14.947</td> <td>   18.302</td>\n",
       "</tr>\n",
       "<tr>\n",
       "  <th>Hour_4</th>                <td>    4.0764</td> <td>    0.857</td> <td>    4.757</td> <td> 0.000</td> <td>    2.397</td> <td>    5.756</td>\n",
       "</tr>\n",
       "<tr>\n",
       "  <th>Hour_5</th>                <td>   -3.3732</td> <td>    0.856</td> <td>   -3.939</td> <td> 0.000</td> <td>   -5.052</td> <td>   -1.695</td>\n",
       "</tr>\n",
       "<tr>\n",
       "  <th>Hour_6</th>                <td>   -7.2928</td> <td>    0.858</td> <td>   -8.504</td> <td> 0.000</td> <td>   -8.974</td> <td>   -5.612</td>\n",
       "</tr>\n",
       "<tr>\n",
       "  <th>Hour_7</th>                <td>   -8.6828</td> <td>    0.865</td> <td>  -10.035</td> <td> 0.000</td> <td>  -10.379</td> <td>   -6.987</td>\n",
       "</tr>\n",
       "<tr>\n",
       "  <th>Hour_8</th>                <td>   -9.1362</td> <td>    0.858</td> <td>  -10.646</td> <td> 0.000</td> <td>  -10.818</td> <td>   -7.454</td>\n",
       "</tr>\n",
       "<tr>\n",
       "  <th>Hour_9</th>                <td>   -8.6121</td> <td>    3.238</td> <td>   -2.660</td> <td> 0.008</td> <td>  -14.958</td> <td>   -2.266</td>\n",
       "</tr>\n",
       "<tr>\n",
       "  <th>Hour_10</th>               <td>  -10.7160</td> <td>    1.032</td> <td>  -10.386</td> <td> 0.000</td> <td>  -12.738</td> <td>   -8.694</td>\n",
       "</tr>\n",
       "<tr>\n",
       "  <th>Hour_11</th>               <td>  -10.5072</td> <td>    0.851</td> <td>  -12.350</td> <td> 0.000</td> <td>  -12.175</td> <td>   -8.840</td>\n",
       "</tr>\n",
       "<tr>\n",
       "  <th>Hour_12</th>               <td>   -9.5487</td> <td>    0.855</td> <td>  -11.168</td> <td> 0.000</td> <td>  -11.224</td> <td>   -7.873</td>\n",
       "</tr>\n",
       "<tr>\n",
       "  <th>Hour_13</th>               <td>   -9.5455</td> <td>    0.855</td> <td>  -11.160</td> <td> 0.000</td> <td>  -11.222</td> <td>   -7.869</td>\n",
       "</tr>\n",
       "<tr>\n",
       "  <th>Hour_14</th>               <td>  -10.2374</td> <td>    0.852</td> <td>  -12.018</td> <td> 0.000</td> <td>  -11.907</td> <td>   -8.568</td>\n",
       "</tr>\n",
       "<tr>\n",
       "  <th>Hour_15</th>               <td>  -10.1117</td> <td>    0.856</td> <td>  -11.813</td> <td> 0.000</td> <td>  -11.790</td> <td>   -8.434</td>\n",
       "</tr>\n",
       "<tr>\n",
       "  <th>Hour_16</th>               <td>  -10.6759</td> <td>    0.856</td> <td>  -12.469</td> <td> 0.000</td> <td>  -12.354</td> <td>   -8.998</td>\n",
       "</tr>\n",
       "<tr>\n",
       "  <th>Hour_17</th>               <td>   -9.0767</td> <td>    0.858</td> <td>  -10.579</td> <td> 0.000</td> <td>  -10.759</td> <td>   -7.395</td>\n",
       "</tr>\n",
       "<tr>\n",
       "  <th>Hour_18</th>               <td>   -3.9255</td> <td>    0.843</td> <td>   -4.658</td> <td> 0.000</td> <td>   -5.577</td> <td>   -2.274</td>\n",
       "</tr>\n",
       "<tr>\n",
       "  <th>Hour_19</th>               <td>    7.0825</td> <td>    0.858</td> <td>    8.255</td> <td> 0.000</td> <td>    5.401</td> <td>    8.764</td>\n",
       "</tr>\n",
       "<tr>\n",
       "  <th>Hour_20</th>               <td>   12.3828</td> <td>    0.860</td> <td>   14.393</td> <td> 0.000</td> <td>   10.696</td> <td>   14.069</td>\n",
       "</tr>\n",
       "<tr>\n",
       "  <th>Hour_21</th>               <td>   13.3628</td> <td>    0.865</td> <td>   15.457</td> <td> 0.000</td> <td>   11.668</td> <td>   15.057</td>\n",
       "</tr>\n",
       "<tr>\n",
       "  <th>Hour_22</th>               <td>   12.3580</td> <td>    0.851</td> <td>   14.525</td> <td> 0.000</td> <td>   10.690</td> <td>   14.026</td>\n",
       "</tr>\n",
       "<tr>\n",
       "  <th>Hour_23</th>               <td>   11.2409</td> <td>    0.852</td> <td>   13.190</td> <td> 0.000</td> <td>    9.570</td> <td>   12.911</td>\n",
       "</tr>\n",
       "</table>\n",
       "<table class=\"simpletable\">\n",
       "<tr>\n",
       "  <th>Omnibus:</th>       <td>2653.512</td> <th>  Durbin-Watson:     </th> <td>   2.003</td>\n",
       "</tr>\n",
       "<tr>\n",
       "  <th>Prob(Omnibus):</th>  <td> 0.000</td>  <th>  Jarque-Bera (JB):  </th> <td>7134.442</td>\n",
       "</tr>\n",
       "<tr>\n",
       "  <th>Skew:</th>           <td> 0.763</td>  <th>  Prob(JB):          </th> <td>    0.00</td>\n",
       "</tr>\n",
       "<tr>\n",
       "  <th>Kurtosis:</th>       <td> 5.562</td>  <th>  Cond. No.          </th> <td>5.22e+17</td>\n",
       "</tr>\n",
       "</table><br/><br/>Warnings:<br/>[1] Standard Errors assume that the covariance matrix of the errors is correctly specified.<br/>[2] The smallest eigenvalue is 2.72e-28. This might indicate that there are<br/>strong multicollinearity problems or that the design matrix is singular."
      ],
      "text/plain": [
       "<class 'statsmodels.iolib.summary.Summary'>\n",
       "\"\"\"\n",
       "                            OLS Regression Results                            \n",
       "==============================================================================\n",
       "Dep. Variable:           HourlyEnergy   R-squared:                       0.450\n",
       "Model:                            OLS   Adj. R-squared:                  0.449\n",
       "Method:                 Least Squares   F-statistic:                     249.7\n",
       "Date:                Thu, 19 Dec 2019   Prob (F-statistic):               0.00\n",
       "Time:                        20:21:55   Log-Likelihood:                -88413.\n",
       "No. Observations:               19260   AIC:                         1.770e+05\n",
       "Df Residuals:                   19196   BIC:                         1.775e+05\n",
       "Df Model:                          63                                         \n",
       "Covariance Type:            nonrobust                                         \n",
       "=========================================================================================\n",
       "                            coef    std err          t      P>|t|      [0.025      0.975]\n",
       "-----------------------------------------------------------------------------------------\n",
       "Intercept                13.0514      6.270      2.081      0.037       0.761      25.342\n",
       "DailyRainfallTotal        0.5035      0.539      0.934      0.350      -0.553       1.560\n",
       "Highest30MinRainfall     -1.1839      0.507     -2.336      0.020      -2.177      -0.190\n",
       "Highest60MinRainfall      2.2099      0.828      2.670      0.008       0.588       3.832\n",
       "Highest120MinRainfall    -1.6517      0.912     -1.811      0.070      -3.439       0.136\n",
       "MeanTemperature          -2.7081      0.701     -3.862      0.000      -4.083      -1.334\n",
       "MaximumTemperature        2.7647      0.549      5.038      0.000       1.689       3.840\n",
       "MinimumTemperature       -0.1487      0.250     -0.594      0.552      -0.639       0.342\n",
       "MeanWindSpeed             0.1813      0.101      1.793      0.073      -0.017       0.380\n",
       "MaxWindSpeed              0.0075      0.038      0.199      0.842      -0.066       0.081\n",
       "Ajeet                   -17.0675      0.993    -17.188      0.000     -19.014     -15.121\n",
       "Ashish                   -7.4726      1.169     -6.393      0.000      -9.764      -5.181\n",
       "Asit                     -7.1879      0.943     -7.622      0.000      -9.036      -5.339\n",
       "Baison                   -8.7619      0.966     -9.067      0.000     -10.656      -6.868\n",
       "Benjamin                -14.2560      3.126     -4.561      0.000     -20.382      -8.130\n",
       "Caren                    -7.6185      0.961     -7.930      0.000      -9.502      -5.735\n",
       "Chayle                   25.1027      0.906     27.698      0.000      23.326      26.879\n",
       "Christopher              21.6738      0.909     23.837      0.000      19.892      23.456\n",
       "Daphne                   28.5237      1.207     23.638      0.000      26.158      30.889\n",
       "Edwin                    29.3036      0.792     37.011      0.000      27.752      30.856\n",
       "Giri                    -12.7770      0.967    -13.210      0.000     -14.673     -10.881\n",
       "Hoan                    -14.5735      0.914    -15.944      0.000     -16.365     -12.782\n",
       "Keith                    -9.0923      0.919     -9.899      0.000     -10.893      -7.292\n",
       "Ken                       1.0860      1.256      0.865      0.387      -1.376       3.548\n",
       "Manish                   -1.8329      0.817     -2.244      0.025      -3.434      -0.232\n",
       "Ola                     -13.7662      0.815    -16.888      0.000     -15.364     -12.168\n",
       "Pandarasamy              -7.3585      0.804     -9.154      0.000      -8.934      -5.783\n",
       "Prakhar                   7.2289      0.626     11.552      0.000       6.002       8.455\n",
       "Ramit                     0.9409      0.955      0.985      0.325      -0.931       2.813\n",
       "Sivaraam                 -3.2647      1.017     -3.210      0.001      -5.258      -1.271\n",
       "Sneha                     1.9720      0.985      2.002      0.045       0.042       3.902\n",
       "Toby                     54.7108      0.855     64.011      0.000      53.035      56.386\n",
       "Vicky                    18.8177      0.907     20.744      0.000      17.040      20.596\n",
       "Viveka                  -21.5463      5.447     -3.955      0.000     -32.224     -10.869\n",
       "You                     -13.5619      1.016    -13.351      0.000     -15.553     -11.571\n",
       "Zuraimi                 -16.1708      0.951    -17.003      0.000     -18.035     -14.307\n",
       "Friday                   -3.9708      1.053     -3.770      0.000      -6.035      -1.906\n",
       "Monday                    5.7159      1.071      5.339      0.000       3.617       7.815\n",
       "Saturday                 -2.6069      1.116     -2.336      0.019      -4.794      -0.420\n",
       "Sunday                    0.4895      1.061      0.461      0.645      -1.590       2.569\n",
       "Thursday                  2.5494      0.960      2.655      0.008       0.667       4.431\n",
       "Tuesday                   5.3941      1.026      5.259      0.000       3.384       7.404\n",
       "Wednesday                 5.4802      0.885      6.195      0.000       3.746       7.214\n",
       "Hour_0                   18.7667      0.860     21.824      0.000      17.081      20.452\n",
       "Hour_1                   19.3811      0.851     22.763      0.000      17.712      21.050\n",
       "Hour_2                   19.2177      0.858     22.396      0.000      17.536      20.900\n",
       "Hour_3                   16.6242      0.856     19.425      0.000      14.947      18.302\n",
       "Hour_4                    4.0764      0.857      4.757      0.000       2.397       5.756\n",
       "Hour_5                   -3.3732      0.856     -3.939      0.000      -5.052      -1.695\n",
       "Hour_6                   -7.2928      0.858     -8.504      0.000      -8.974      -5.612\n",
       "Hour_7                   -8.6828      0.865    -10.035      0.000     -10.379      -6.987\n",
       "Hour_8                   -9.1362      0.858    -10.646      0.000     -10.818      -7.454\n",
       "Hour_9                   -8.6121      3.238     -2.660      0.008     -14.958      -2.266\n",
       "Hour_10                 -10.7160      1.032    -10.386      0.000     -12.738      -8.694\n",
       "Hour_11                 -10.5072      0.851    -12.350      0.000     -12.175      -8.840\n",
       "Hour_12                  -9.5487      0.855    -11.168      0.000     -11.224      -7.873\n",
       "Hour_13                  -9.5455      0.855    -11.160      0.000     -11.222      -7.869\n",
       "Hour_14                 -10.2374      0.852    -12.018      0.000     -11.907      -8.568\n",
       "Hour_15                 -10.1117      0.856    -11.813      0.000     -11.790      -8.434\n",
       "Hour_16                 -10.6759      0.856    -12.469      0.000     -12.354      -8.998\n",
       "Hour_17                  -9.0767      0.858    -10.579      0.000     -10.759      -7.395\n",
       "Hour_18                  -3.9255      0.843     -4.658      0.000      -5.577      -2.274\n",
       "Hour_19                   7.0825      0.858      8.255      0.000       5.401       8.764\n",
       "Hour_20                  12.3828      0.860     14.393      0.000      10.696      14.069\n",
       "Hour_21                  13.3628      0.865     15.457      0.000      11.668      15.057\n",
       "Hour_22                  12.3580      0.851     14.525      0.000      10.690      14.026\n",
       "Hour_23                  11.2409      0.852     13.190      0.000       9.570      12.911\n",
       "==============================================================================\n",
       "Omnibus:                     2653.512   Durbin-Watson:                   2.003\n",
       "Prob(Omnibus):                  0.000   Jarque-Bera (JB):             7134.442\n",
       "Skew:                           0.763   Prob(JB):                         0.00\n",
       "Kurtosis:                       5.562   Cond. No.                     5.22e+17\n",
       "==============================================================================\n",
       "\n",
       "Warnings:\n",
       "[1] Standard Errors assume that the covariance matrix of the errors is correctly specified.\n",
       "[2] The smallest eigenvalue is 2.72e-28. This might indicate that there are\n",
       "strong multicollinearity problems or that the design matrix is singular.\n",
       "\"\"\""
      ]
     },
     "execution_count": 153,
     "metadata": {},
     "output_type": "execute_result"
    }
   ],
   "source": [
    "#a comment\n",
    "results = smf.ols(formula_pre, data=X_train).fit()\n",
    "#just a comment\n",
    "results.summary()"
   ]
  },
  {
   "cell_type": "code",
   "execution_count": 154,
   "metadata": {},
   "outputs": [],
   "source": [
    "pred_pre_train = results.predict(X_train)"
   ]
  },
  {
   "cell_type": "code",
   "execution_count": 156,
   "metadata": {},
   "outputs": [],
   "source": [
    "pre_train_mod=results"
   ]
  },
  {
   "cell_type": "code",
   "execution_count": 155,
   "metadata": {},
   "outputs": [
    {
     "name": "stdout",
     "output_type": "stream",
     "text": [
      "23.844774442505145 17.39207956298387 0.45040776768404245\n"
     ]
    }
   ],
   "source": [
    "rmse = (mean_squared_error(pred_pre_train, y_train))**0.5 #rmse\n",
    "mae = mean_absolute_error(pred_pre_train, y_train)\n",
    "r2 = r2_score(y_train,pred_pre_train)\n",
    "print(rmse, mae, r2)"
   ]
  },
  {
   "cell_type": "code",
   "execution_count": 118,
   "metadata": {},
   "outputs": [],
   "source": [
    "pred_pre_test = results.predict(X_test)"
   ]
  },
  {
   "cell_type": "code",
   "execution_count": 119,
   "metadata": {},
   "outputs": [
    {
     "name": "stdout",
     "output_type": "stream",
     "text": [
      "23.690552662294134 17.1398273987032 0.458975921788484\n"
     ]
    }
   ],
   "source": [
    "\n",
    "rmse = (mean_squared_error(pred_pre_test, y_test))**0.5 #rmse\n",
    "mae = mean_absolute_error(pred_pre_test, y_test)\n",
    "r2 = r2_score(y_test,pred_pre_test )\n",
    "print(rmse, mae, r2)"
   ]
  },
  {
   "cell_type": "code",
   "execution_count": 120,
   "metadata": {},
   "outputs": [
    {
     "data": {
      "text/plain": [
       "[<matplotlib.lines.Line2D at 0x10760d978>]"
      ]
     },
     "execution_count": 120,
     "metadata": {},
     "output_type": "execute_result"
    },
    {
     "data": {
      "image/png": "[encoded data removed]",
      "text/plain": [
       "<Figure size 432x288 with 1 Axes>"
      ]
     },
     "metadata": {
      "needs_background": "light"
     },
     "output_type": "display_data"
    }
   ],
   "source": [
    "fig, ax = plt.subplots()\n",
    "sns.scatterplot(y_test, pred_pre_test, ax = ax)\n",
    "plt.plot(np.linspace(0,100), np.linspace(0, 100), color='r')"
   ]
  },
  {
   "cell_type": "code",
   "execution_count": 124,
   "metadata": {},
   "outputs": [
    {
     "ename": "KeyError",
     "evalue": "\"['HourlyEnergy'] not found in axis\"",
     "output_type": "error",
     "traceback": [
      "\u001b[0;31m---------------------------------------------------------------------------\u001b[0m",
      "\u001b[0;31mKeyError\u001b[0m                                  Traceback (most recent call last)",
      "\u001b[0;32m<ipython-input-124-9b3677496978>\u001b[0m in \u001b[0;36m<module>\u001b[0;34m\u001b[0m\n\u001b[1;32m      1\u001b[0m \u001b[0;31m#now on to sklearn models\u001b[0m\u001b[0;34m\u001b[0m\u001b[0;34m\u001b[0m\u001b[0;34m\u001b[0m\u001b[0m\n\u001b[0;32m----> 2\u001b[0;31m \u001b[0mX_train\u001b[0m \u001b[0;34m=\u001b[0m \u001b[0mX_train\u001b[0m\u001b[0;34m.\u001b[0m\u001b[0mdrop\u001b[0m\u001b[0;34m(\u001b[0m\u001b[0mcolumns\u001b[0m\u001b[0;34m=\u001b[0m\u001b[0;34m[\u001b[0m\u001b[0;34m\"HourlyEnergy\"\u001b[0m\u001b[0;34m]\u001b[0m\u001b[0;34m)\u001b[0m\u001b[0;34m\u001b[0m\u001b[0;34m\u001b[0m\u001b[0m\n\u001b[0m\u001b[1;32m      3\u001b[0m \u001b[0mX_test\u001b[0m \u001b[0;34m=\u001b[0m \u001b[0mX_test\u001b[0m\u001b[0;34m.\u001b[0m\u001b[0mdrop\u001b[0m\u001b[0;34m(\u001b[0m\u001b[0mcolumns\u001b[0m\u001b[0;34m=\u001b[0m\u001b[0;34m[\u001b[0m\u001b[0;34m'HourlyEnergy'\u001b[0m\u001b[0;34m]\u001b[0m\u001b[0;34m)\u001b[0m\u001b[0;34m\u001b[0m\u001b[0;34m\u001b[0m\u001b[0m\n",
      "\u001b[0;32m/anaconda3/lib/python3.7/site-packages/pandas/core/frame.py\u001b[0m in \u001b[0;36mdrop\u001b[0;34m(self, labels, axis, index, columns, level, inplace, errors)\u001b[0m\n\u001b[1;32m   3938\u001b[0m                                            \u001b[0mindex\u001b[0m\u001b[0;34m=\u001b[0m\u001b[0mindex\u001b[0m\u001b[0;34m,\u001b[0m \u001b[0mcolumns\u001b[0m\u001b[0;34m=\u001b[0m\u001b[0mcolumns\u001b[0m\u001b[0;34m,\u001b[0m\u001b[0;34m\u001b[0m\u001b[0;34m\u001b[0m\u001b[0m\n\u001b[1;32m   3939\u001b[0m                                            \u001b[0mlevel\u001b[0m\u001b[0;34m=\u001b[0m\u001b[0mlevel\u001b[0m\u001b[0;34m,\u001b[0m \u001b[0minplace\u001b[0m\u001b[0;34m=\u001b[0m\u001b[0minplace\u001b[0m\u001b[0;34m,\u001b[0m\u001b[0;34m\u001b[0m\u001b[0;34m\u001b[0m\u001b[0m\n\u001b[0;32m-> 3940\u001b[0;31m                                            errors=errors)\n\u001b[0m\u001b[1;32m   3941\u001b[0m \u001b[0;34m\u001b[0m\u001b[0m\n\u001b[1;32m   3942\u001b[0m     @rewrite_axis_style_signature('mapper', [('copy', True),\n",
      "\u001b[0;32m/anaconda3/lib/python3.7/site-packages/pandas/core/generic.py\u001b[0m in \u001b[0;36mdrop\u001b[0;34m(self, labels, axis, index, columns, level, inplace, errors)\u001b[0m\n\u001b[1;32m   3778\u001b[0m         \u001b[0;32mfor\u001b[0m \u001b[0maxis\u001b[0m\u001b[0;34m,\u001b[0m \u001b[0mlabels\u001b[0m \u001b[0;32min\u001b[0m \u001b[0maxes\u001b[0m\u001b[0;34m.\u001b[0m\u001b[0mitems\u001b[0m\u001b[0;34m(\u001b[0m\u001b[0;34m)\u001b[0m\u001b[0;34m:\u001b[0m\u001b[0;34m\u001b[0m\u001b[0;34m\u001b[0m\u001b[0m\n\u001b[1;32m   3779\u001b[0m             \u001b[0;32mif\u001b[0m \u001b[0mlabels\u001b[0m \u001b[0;32mis\u001b[0m \u001b[0;32mnot\u001b[0m \u001b[0;32mNone\u001b[0m\u001b[0;34m:\u001b[0m\u001b[0;34m\u001b[0m\u001b[0;34m\u001b[0m\u001b[0m\n\u001b[0;32m-> 3780\u001b[0;31m                 \u001b[0mobj\u001b[0m \u001b[0;34m=\u001b[0m \u001b[0mobj\u001b[0m\u001b[0;34m.\u001b[0m\u001b[0m_drop_axis\u001b[0m\u001b[0;34m(\u001b[0m\u001b[0mlabels\u001b[0m\u001b[0;34m,\u001b[0m \u001b[0maxis\u001b[0m\u001b[0;34m,\u001b[0m \u001b[0mlevel\u001b[0m\u001b[0;34m=\u001b[0m\u001b[0mlevel\u001b[0m\u001b[0;34m,\u001b[0m \u001b[0merrors\u001b[0m\u001b[0;34m=\u001b[0m\u001b[0merrors\u001b[0m\u001b[0;34m)\u001b[0m\u001b[0;34m\u001b[0m\u001b[0;34m\u001b[0m\u001b[0m\n\u001b[0m\u001b[1;32m   3781\u001b[0m \u001b[0;34m\u001b[0m\u001b[0m\n\u001b[1;32m   3782\u001b[0m         \u001b[0;32mif\u001b[0m \u001b[0minplace\u001b[0m\u001b[0;34m:\u001b[0m\u001b[0;34m\u001b[0m\u001b[0;34m\u001b[0m\u001b[0m\n",
      "\u001b[0;32m/anaconda3/lib/python3.7/site-packages/pandas/core/generic.py\u001b[0m in \u001b[0;36m_drop_axis\u001b[0;34m(self, labels, axis, level, errors)\u001b[0m\n\u001b[1;32m   3810\u001b[0m                 \u001b[0mnew_axis\u001b[0m \u001b[0;34m=\u001b[0m \u001b[0maxis\u001b[0m\u001b[0;34m.\u001b[0m\u001b[0mdrop\u001b[0m\u001b[0;34m(\u001b[0m\u001b[0mlabels\u001b[0m\u001b[0;34m,\u001b[0m \u001b[0mlevel\u001b[0m\u001b[0;34m=\u001b[0m\u001b[0mlevel\u001b[0m\u001b[0;34m,\u001b[0m \u001b[0merrors\u001b[0m\u001b[0;34m=\u001b[0m\u001b[0merrors\u001b[0m\u001b[0;34m)\u001b[0m\u001b[0;34m\u001b[0m\u001b[0;34m\u001b[0m\u001b[0m\n\u001b[1;32m   3811\u001b[0m             \u001b[0;32melse\u001b[0m\u001b[0;34m:\u001b[0m\u001b[0;34m\u001b[0m\u001b[0;34m\u001b[0m\u001b[0m\n\u001b[0;32m-> 3812\u001b[0;31m                 \u001b[0mnew_axis\u001b[0m \u001b[0;34m=\u001b[0m \u001b[0maxis\u001b[0m\u001b[0;34m.\u001b[0m\u001b[0mdrop\u001b[0m\u001b[0;34m(\u001b[0m\u001b[0mlabels\u001b[0m\u001b[0;34m,\u001b[0m \u001b[0merrors\u001b[0m\u001b[0;34m=\u001b[0m\u001b[0merrors\u001b[0m\u001b[0;34m)\u001b[0m\u001b[0;34m\u001b[0m\u001b[0;34m\u001b[0m\u001b[0m\n\u001b[0m\u001b[1;32m   3813\u001b[0m             \u001b[0mresult\u001b[0m \u001b[0;34m=\u001b[0m \u001b[0mself\u001b[0m\u001b[0;34m.\u001b[0m\u001b[0mreindex\u001b[0m\u001b[0;34m(\u001b[0m\u001b[0;34m**\u001b[0m\u001b[0;34m{\u001b[0m\u001b[0maxis_name\u001b[0m\u001b[0;34m:\u001b[0m \u001b[0mnew_axis\u001b[0m\u001b[0;34m}\u001b[0m\u001b[0;34m)\u001b[0m\u001b[0;34m\u001b[0m\u001b[0;34m\u001b[0m\u001b[0m\n\u001b[1;32m   3814\u001b[0m \u001b[0;34m\u001b[0m\u001b[0m\n",
      "\u001b[0;32m/anaconda3/lib/python3.7/site-packages/pandas/core/indexes/base.py\u001b[0m in \u001b[0;36mdrop\u001b[0;34m(self, labels, errors)\u001b[0m\n\u001b[1;32m   4963\u001b[0m             \u001b[0;32mif\u001b[0m \u001b[0merrors\u001b[0m \u001b[0;34m!=\u001b[0m \u001b[0;34m'ignore'\u001b[0m\u001b[0;34m:\u001b[0m\u001b[0;34m\u001b[0m\u001b[0;34m\u001b[0m\u001b[0m\n\u001b[1;32m   4964\u001b[0m                 raise KeyError(\n\u001b[0;32m-> 4965\u001b[0;31m                     '{} not found in axis'.format(labels[mask]))\n\u001b[0m\u001b[1;32m   4966\u001b[0m             \u001b[0mindexer\u001b[0m \u001b[0;34m=\u001b[0m \u001b[0mindexer\u001b[0m\u001b[0;34m[\u001b[0m\u001b[0;34m~\u001b[0m\u001b[0mmask\u001b[0m\u001b[0;34m]\u001b[0m\u001b[0;34m\u001b[0m\u001b[0;34m\u001b[0m\u001b[0m\n\u001b[1;32m   4967\u001b[0m         \u001b[0;32mreturn\u001b[0m \u001b[0mself\u001b[0m\u001b[0;34m.\u001b[0m\u001b[0mdelete\u001b[0m\u001b[0;34m(\u001b[0m\u001b[0mindexer\u001b[0m\u001b[0;34m)\u001b[0m\u001b[0;34m\u001b[0m\u001b[0;34m\u001b[0m\u001b[0m\n",
      "\u001b[0;31mKeyError\u001b[0m: \"['HourlyEnergy'] not found in axis\""
     ]
    }
   ],
   "source": [
    "#now on to sklearn models\n",
    "X_train = X_train.drop(columns=[\"HourlyEnergy\"])\n",
    "X_test = X_test.drop(columns=['HourlyEnergy'])"
   ]
  },
  {
   "cell_type": "code",
   "execution_count": 126,
   "metadata": {},
   "outputs": [],
   "source": [
    "#k nearest neighbors\n",
    "mod = KNeighborsRegressor(n_neighbors = 1)\n",
    "mod.fit(X_train, y_train)\n",
    "pred = mod.predict(X_test)"
   ]
  },
  {
   "cell_type": "code",
   "execution_count": 128,
   "metadata": {},
   "outputs": [
    {
     "name": "stdout",
     "output_type": "stream",
     "text": [
      "39.20415053493142 25.914360224925247 -0.4815977354375851\n"
     ]
    }
   ],
   "source": [
    "rmse = (mean_squared_error(pred, y_test))**0.5 #rmse\n",
    "mae = mean_absolute_error(pred, y_test)\n",
    "r2 = r2_score(y_test,pred)\n",
    "print(rmse, mae, r2)"
   ]
  },
  {
   "cell_type": "code",
   "execution_count": 129,
   "metadata": {},
   "outputs": [],
   "source": [
    "#K means\n",
    "mod2 = KMeans(n_clusters=20)\n",
    "mod2.fit(X_train, y_train)\n",
    "pred = mod2.predict(X_test)"
   ]
  },
  {
   "cell_type": "code",
   "execution_count": 130,
   "metadata": {},
   "outputs": [
    {
     "name": "stdout",
     "output_type": "stream",
     "text": [
      "36.398328903301305 23.050330143602572 -0.27711233459758544\n"
     ]
    }
   ],
   "source": [
    "rmse = (mean_squared_error(pred, y_test))**0.5 #rmse\n",
    "mae = mean_absolute_error(pred, y_test)\n",
    "r2 = r2_score(y_test, pred)\n",
    "print(rmse, mae, r2)"
   ]
  },
  {
   "cell_type": "code",
   "execution_count": 131,
   "metadata": {},
   "outputs": [
    {
     "name": "stderr",
     "output_type": "stream",
     "text": [
      "/anaconda3/lib/python3.7/site-packages/sklearn/ensemble/forest.py:246: FutureWarning: The default value of n_estimators will change from 10 in version 0.20 to 100 in 0.22.\n",
      "  \"10 in version 0.20 to 100 in 0.22.\", FutureWarning)\n"
     ]
    }
   ],
   "source": [
    "#rf regressor\n",
    "mod4 = RandomForestRegressor()\n",
    "mod4.fit(X_train, y_train)\n",
    "pred = mod4.predict(X_test)"
   ]
  },
  {
   "cell_type": "code",
   "execution_count": 132,
   "metadata": {},
   "outputs": [
    {
     "name": "stdout",
     "output_type": "stream",
     "text": [
      "23.383858823047678 13.754290234963657 0.4728932593377019\n"
     ]
    }
   ],
   "source": [
    "rmse = (mean_squared_error(pred, y_test))**0.5 #rmse\n",
    "mae = mean_absolute_error(pred, y_test)\n",
    "r2 = r2_score(y_test, pred)\n",
    "print(rmse, mae, r2)"
   ]
  },
  {
   "cell_type": "code",
   "execution_count": 133,
   "metadata": {},
   "outputs": [],
   "source": [
    "#bagging\n",
    "mod5 = BaggingRegressor()\n",
    "mod5.fit(X_train, y_train)\n",
    "pred = mod5.predict(X_test)"
   ]
  },
  {
   "cell_type": "code",
   "execution_count": 134,
   "metadata": {},
   "outputs": [
    {
     "name": "stdout",
     "output_type": "stream",
     "text": [
      "23.26797592774865 13.65341425011749 0.4781046577376339\n"
     ]
    }
   ],
   "source": [
    "rmse = (mean_squared_error(pred, y_test))**0.5 #rmse\n",
    "mae = mean_absolute_error(pred, y_test)\n",
    "r2 = r2_score(y_test,pred)\n",
    "print(rmse, mae, r2)"
   ]
  },
  {
   "cell_type": "code",
   "execution_count": 135,
   "metadata": {},
   "outputs": [],
   "source": [
    "#boosting\n",
    "mod6 = GradientBoostingRegressor()\n",
    "mod6.fit(X_train, y_train)\n",
    "pred = mod6.predict(X_test)"
   ]
  },
  {
   "cell_type": "code",
   "execution_count": 136,
   "metadata": {},
   "outputs": [
    {
     "name": "stdout",
     "output_type": "stream",
     "text": [
      "23.06219175445639 17.038300730635356 0.48729521936983144\n"
     ]
    }
   ],
   "source": [
    "rmse = (mean_squared_error(pred, y_test))**0.5 #rmse\n",
    "mae = mean_absolute_error(pred, y_test)\n",
    "r2 = r2_score(y_test,pred)\n",
    "print(rmse, mae, r2)"
   ]
  },
  {
   "cell_type": "markdown",
   "metadata": {},
   "source": [
    "## DuringTreatment Ensemble +LR Model"
   ]
  },
  {
   "cell_type": "markdown",
   "metadata": {},
   "source": [
    "['Hour',\n",
    " 'HourlyEnergy',\n",
    " 'Name',\n",
    " 'Weekend_Indicator',\n",
    " 'Treatment_A_Indicator',\n",
    " 'Treatment_B_Indicator',\n",
    " 'Treatment_control_Indicator',\n",
    " 'NonParticipant',\n",
    " 'DailyLoginCount',\n",
    " 'DailyDurationCount',\n",
    " 'MeanTemperature',\n",
    " 'MaximumTemperature',\n",
    " 'DailyRainfallTotal',\n",
    " 'Highest30MinRainfall',\n",
    " 'Highest60MinRainfall']"
   ]
  },
  {
   "cell_type": "code",
   "execution_count": 219,
   "metadata": {},
   "outputs": [],
   "source": [
    "period_data = no_na[is_during]\n",
    "y = period_data[\"HourlyEnergy\"]\n",
    "X = period_data.drop(columns=[\"TotalEnergy\", \"Date\", \"WorkGroup\"])\n",
    "X = pd.concat([X, pd.get_dummies(X['Name'])], axis=1)\n",
    "X = X.dropna(axis=1)\n",
    "X = X.drop(columns = ['Day of Week', 'OutOfOffice','Treatment_Administered_Indicator','Highest120MinRainfall','MinimumTemperature','MeanWindSpeed','MaxWindSpeed'])\n",
    "X['Hour'] = X['Hour'].astype(int)\n",
    "X = pd.concat([X, pd.get_dummies(X['Hour'], prefix='Hour')], axis=1)\n",
    "X = X.drop(columns = ['Datetime', 'Hour'])\n",
    "X = X.rename(columns={'Asit Mishra': \"Asit\", 'Baison Ning': \"Baison\", 'Caren Liew': \"Caren\", 'Toby Cheung': 'Toby', 'You Chun':'You'})\n",
    "X = X.drop(columns=['Name'])"
   ]
  },
  {
   "cell_type": "code",
   "execution_count": 220,
   "metadata": {
    "scrolled": true
   },
   "outputs": [
    {
     "data": {
      "text/plain": [
       "Index(['HourlyEnergy', 'Weekend_Indicator', 'Treatment_A_Indicator',\n",
       "       'Treatment_B_Indicator', 'Treatment_control_Indicator',\n",
       "       'NonParticipant', 'DailyLoginCount', 'DailyDurationCount', 'Unnamed: 0',\n",
       "       'DailyRainfallTotal', 'Highest30MinRainfall', 'Highest60MinRainfall',\n",
       "       'MeanTemperature', 'MaximumTemperature', 'Ajeet', 'Ashish', 'Asit',\n",
       "       'Baison', 'Benjamin', 'Caren', 'Chayle', 'Christopher', 'Daphne',\n",
       "       'Edwin', 'Giri', 'Hoan', 'Jiayu', 'Keith', 'Ken', 'Manish', 'Ola',\n",
       "       'Pandarasamy', 'Prakhar', 'Ramit', 'Sivaraam', 'Sneha', 'Toby', 'Vicky',\n",
       "       'Viveka', 'You', 'Zuraimi', 'Hour_0', 'Hour_1', 'Hour_2', 'Hour_3',\n",
       "       'Hour_4', 'Hour_5', 'Hour_6', 'Hour_7', 'Hour_8', 'Hour_9', 'Hour_10',\n",
       "       'Hour_11', 'Hour_12', 'Hour_13', 'Hour_14', 'Hour_15', 'Hour_16',\n",
       "       'Hour_17', 'Hour_18', 'Hour_19', 'Hour_20', 'Hour_21', 'Hour_22',\n",
       "       'Hour_23'],\n",
       "      dtype='object')"
      ]
     },
     "execution_count": 220,
     "metadata": {},
     "output_type": "execute_result"
    }
   ],
   "source": [
    "X.columns"
   ]
  },
  {
   "cell_type": "code",
   "execution_count": 221,
   "metadata": {},
   "outputs": [],
   "source": [
    "X_train, X_test, y_train, y_test = train_test_split(X, y, test_size=0.2, random_state=1)"
   ]
  },
  {
   "cell_type": "code",
   "execution_count": 216,
   "metadata": {},
   "outputs": [],
   "source": [
    "formula = 'HourlyEnergy ~ '\n",
    "start = True\n",
    "for each in X.columns:\n",
    "    if start:\n",
    "        start = False\n",
    "        formula = formula + each\n",
    "        continue\n",
    "    if each == 'HourlyEnergy':\n",
    "        continue\n",
    "    formula = formula + '+' + each"
   ]
  },
  {
   "cell_type": "code",
   "execution_count": null,
   "metadata": {},
   "outputs": [],
   "source": []
  },
  {
   "cell_type": "code",
   "execution_count": 224,
   "metadata": {},
   "outputs": [],
   "source": [
    "formula_during = 'HourlyEnergy ~ Weekend_Indicator+Treatment_A_Indicator+Treatment_B_Indicator+Treatment_control_Indicator+NonParticipant+DailyLoginCount+DailyDurationCount+DailyRainfallTotal+Highest30MinRainfall+Highest60MinRainfall+MeanTemperature+MaximumTemperature+Ajeet+Ashish+Asit+Baison+Benjamin+Caren+Chayle+Christopher+Daphne+Edwin+Giri+Hoan+Jiayu+Keith+Ken+Manish+Ola+Pandarasamy+Prakhar+Ramit+Sivaraam+Sneha+Toby+Vicky+Viveka+You+Zuraimi+Hour_0+Hour_1+Hour_2+Hour_3+Hour_4+Hour_5+Hour_6+Hour_7+Hour_8+Hour_9+Hour_10+Hour_11+Hour_12+Hour_13+Hour_14+Hour_15+Hour_16+Hour_17+Hour_18+Hour_19+Hour_20+Hour_21+Hour_22+Hour_23'"
   ]
  },
  {
   "cell_type": "code",
   "execution_count": null,
   "metadata": {},
   "outputs": [],
   "source": []
  },
  {
   "cell_type": "code",
   "execution_count": 225,
   "metadata": {
    "scrolled": true
   },
   "outputs": [
    {
     "data": {
      "text/html": [
       "<table class=\"simpletable\">\n",
       "<caption>OLS Regression Results</caption>\n",
       "<tr>\n",
       "  <th>Dep. Variable:</th>      <td>HourlyEnergy</td>   <th>  R-squared:         </th>  <td>   0.673</td>  \n",
       "</tr>\n",
       "<tr>\n",
       "  <th>Model:</th>                   <td>OLS</td>       <th>  Adj. R-squared:    </th>  <td>   0.672</td>  \n",
       "</tr>\n",
       "<tr>\n",
       "  <th>Method:</th>             <td>Least Squares</td>  <th>  F-statistic:       </th>  <td>   794.8</td>  \n",
       "</tr>\n",
       "<tr>\n",
       "  <th>Date:</th>             <td>Thu, 19 Dec 2019</td> <th>  Prob (F-statistic):</th>   <td>  0.00</td>   \n",
       "</tr>\n",
       "<tr>\n",
       "  <th>Time:</th>                 <td>21:58:06</td>     <th>  Log-Likelihood:    </th> <td>-1.1277e+05</td>\n",
       "</tr>\n",
       "<tr>\n",
       "  <th>No. Observations:</th>      <td> 22883</td>      <th>  AIC:               </th>  <td>2.257e+05</td> \n",
       "</tr>\n",
       "<tr>\n",
       "  <th>Df Residuals:</th>          <td> 22823</td>      <th>  BIC:               </th>  <td>2.262e+05</td> \n",
       "</tr>\n",
       "<tr>\n",
       "  <th>Df Model:</th>              <td>    59</td>      <th>                     </th>      <td> </td>     \n",
       "</tr>\n",
       "<tr>\n",
       "  <th>Covariance Type:</th>      <td>nonrobust</td>    <th>                     </th>      <td> </td>     \n",
       "</tr>\n",
       "</table>\n",
       "<table class=\"simpletable\">\n",
       "<tr>\n",
       "               <td></td>                  <th>coef</th>     <th>std err</th>      <th>t</th>      <th>P>|t|</th>  <th>[0.025</th>    <th>0.975]</th>  \n",
       "</tr>\n",
       "<tr>\n",
       "  <th>Intercept</th>                   <td>    3.0016</td> <td>    6.453</td> <td>    0.465</td> <td> 0.642</td> <td>   -9.646</td> <td>   15.649</td>\n",
       "</tr>\n",
       "<tr>\n",
       "  <th>Weekend_Indicator</th>           <td>   -7.0994</td> <td>    0.762</td> <td>   -9.315</td> <td> 0.000</td> <td>   -8.593</td> <td>   -5.606</td>\n",
       "</tr>\n",
       "<tr>\n",
       "  <th>Treatment_A_Indicator</th>       <td>  -11.0315</td> <td>    1.751</td> <td>   -6.301</td> <td> 0.000</td> <td>  -14.463</td> <td>   -7.600</td>\n",
       "</tr>\n",
       "<tr>\n",
       "  <th>Treatment_B_Indicator</th>       <td>   -8.9425</td> <td>    1.865</td> <td>   -4.796</td> <td> 0.000</td> <td>  -12.597</td> <td>   -5.288</td>\n",
       "</tr>\n",
       "<tr>\n",
       "  <th>Treatment_control_Indicator</th> <td>  -11.4532</td> <td>    2.128</td> <td>   -5.382</td> <td> 0.000</td> <td>  -15.625</td> <td>   -7.282</td>\n",
       "</tr>\n",
       "<tr>\n",
       "  <th>NonParticipant</th>              <td>   34.4288</td> <td>    1.633</td> <td>   21.082</td> <td> 0.000</td> <td>   31.228</td> <td>   37.630</td>\n",
       "</tr>\n",
       "<tr>\n",
       "  <th>DailyLoginCount</th>             <td>   -0.8761</td> <td>    0.464</td> <td>   -1.888</td> <td> 0.059</td> <td>   -1.785</td> <td>    0.033</td>\n",
       "</tr>\n",
       "<tr>\n",
       "  <th>DailyDurationCount</th>          <td>   -0.0369</td> <td>    0.132</td> <td>   -0.279</td> <td> 0.780</td> <td>   -0.296</td> <td>    0.222</td>\n",
       "</tr>\n",
       "<tr>\n",
       "  <th>DailyRainfallTotal</th>          <td>   -0.1251</td> <td>    0.127</td> <td>   -0.988</td> <td> 0.323</td> <td>   -0.373</td> <td>    0.123</td>\n",
       "</tr>\n",
       "<tr>\n",
       "  <th>Highest30MinRainfall</th>        <td>    0.4879</td> <td>    0.174</td> <td>    2.808</td> <td> 0.005</td> <td>    0.147</td> <td>    0.829</td>\n",
       "</tr>\n",
       "<tr>\n",
       "  <th>Highest60MinRainfall</th>        <td>   -0.3709</td> <td>    0.196</td> <td>   -1.897</td> <td> 0.058</td> <td>   -0.754</td> <td>    0.012</td>\n",
       "</tr>\n",
       "<tr>\n",
       "  <th>MeanTemperature</th>             <td>    2.4431</td> <td>    0.585</td> <td>    4.173</td> <td> 0.000</td> <td>    1.296</td> <td>    3.590</td>\n",
       "</tr>\n",
       "<tr>\n",
       "  <th>MaximumTemperature</th>          <td>   -1.3299</td> <td>    0.503</td> <td>   -2.642</td> <td> 0.008</td> <td>   -2.317</td> <td>   -0.343</td>\n",
       "</tr>\n",
       "<tr>\n",
       "  <th>Ajeet</th>                       <td>  -17.1946</td> <td>    1.306</td> <td>  -13.168</td> <td> 0.000</td> <td>  -19.754</td> <td>  -14.635</td>\n",
       "</tr>\n",
       "<tr>\n",
       "  <th>Ashish</th>                      <td>   -7.8803</td> <td>    2.060</td> <td>   -3.825</td> <td> 0.000</td> <td>  -11.918</td> <td>   -3.842</td>\n",
       "</tr>\n",
       "<tr>\n",
       "  <th>Asit</th>                        <td>  -11.8264</td> <td>    1.202</td> <td>   -9.841</td> <td> 0.000</td> <td>  -14.182</td> <td>   -9.471</td>\n",
       "</tr>\n",
       "<tr>\n",
       "  <th>Baison</th>                      <td>   -5.9976</td> <td>    1.133</td> <td>   -5.291</td> <td> 0.000</td> <td>   -8.219</td> <td>   -3.776</td>\n",
       "</tr>\n",
       "<tr>\n",
       "  <th>Benjamin</th>                    <td>  -15.0309</td> <td>    1.219</td> <td>  -12.326</td> <td> 0.000</td> <td>  -17.421</td> <td>  -12.641</td>\n",
       "</tr>\n",
       "<tr>\n",
       "  <th>Caren</th>                       <td>  -11.0683</td> <td>    1.255</td> <td>   -8.817</td> <td> 0.000</td> <td>  -13.529</td> <td>   -8.608</td>\n",
       "</tr>\n",
       "<tr>\n",
       "  <th>Chayle</th>                      <td>   29.4188</td> <td>    1.221</td> <td>   24.094</td> <td> 0.000</td> <td>   27.026</td> <td>   31.812</td>\n",
       "</tr>\n",
       "<tr>\n",
       "  <th>Christopher</th>                 <td>   14.7694</td> <td>    1.177</td> <td>   12.544</td> <td> 0.000</td> <td>   12.462</td> <td>   17.077</td>\n",
       "</tr>\n",
       "<tr>\n",
       "  <th>Daphne</th>                      <td>   19.1583</td> <td>    1.079</td> <td>   17.750</td> <td> 0.000</td> <td>   17.043</td> <td>   21.274</td>\n",
       "</tr>\n",
       "<tr>\n",
       "  <th>Edwin</th>                       <td>   15.7768</td> <td>    1.658</td> <td>    9.517</td> <td> 0.000</td> <td>   12.527</td> <td>   19.026</td>\n",
       "</tr>\n",
       "<tr>\n",
       "  <th>Giri</th>                        <td>  -16.5676</td> <td>    1.380</td> <td>  -12.007</td> <td> 0.000</td> <td>  -19.272</td> <td>  -13.863</td>\n",
       "</tr>\n",
       "<tr>\n",
       "  <th>Hoan</th>                        <td>  -19.8939</td> <td>    1.365</td> <td>  -14.573</td> <td> 0.000</td> <td>  -22.570</td> <td>  -17.218</td>\n",
       "</tr>\n",
       "<tr>\n",
       "  <th>Jiayu</th>                       <td>  217.5710</td> <td>    1.233</td> <td>  176.479</td> <td> 0.000</td> <td>  215.154</td> <td>  219.987</td>\n",
       "</tr>\n",
       "<tr>\n",
       "  <th>Keith</th>                       <td>  -53.8531</td> <td>    1.110</td> <td>  -48.515</td> <td> 0.000</td> <td>  -56.029</td> <td>  -51.677</td>\n",
       "</tr>\n",
       "<tr>\n",
       "  <th>Ken</th>                         <td>   -4.4503</td> <td>    1.268</td> <td>   -3.510</td> <td> 0.000</td> <td>   -6.936</td> <td>   -1.965</td>\n",
       "</tr>\n",
       "<tr>\n",
       "  <th>Manish</th>                      <td>   -9.1921</td> <td>    1.351</td> <td>   -6.805</td> <td> 0.000</td> <td>  -11.840</td> <td>   -6.545</td>\n",
       "</tr>\n",
       "<tr>\n",
       "  <th>Ola</th>                         <td>  -17.7345</td> <td>    1.522</td> <td>  -11.652</td> <td> 0.000</td> <td>  -20.718</td> <td>  -14.751</td>\n",
       "</tr>\n",
       "<tr>\n",
       "  <th>Pandarasamy</th>                 <td>  -58.2285</td> <td>    1.043</td> <td>  -55.821</td> <td> 0.000</td> <td>  -60.273</td> <td>  -56.184</td>\n",
       "</tr>\n",
       "<tr>\n",
       "  <th>Prakhar</th>                     <td>    8.1010</td> <td>    0.905</td> <td>    8.949</td> <td> 0.000</td> <td>    6.327</td> <td>    9.875</td>\n",
       "</tr>\n",
       "<tr>\n",
       "  <th>Ramit</th>                       <td>   -7.4931</td> <td>    1.375</td> <td>   -5.448</td> <td> 0.000</td> <td>  -10.189</td> <td>   -4.797</td>\n",
       "</tr>\n",
       "<tr>\n",
       "  <th>Sivaraam</th>                    <td>  -15.5028</td> <td>    1.356</td> <td>  -11.435</td> <td> 0.000</td> <td>  -18.160</td> <td>  -12.846</td>\n",
       "</tr>\n",
       "<tr>\n",
       "  <th>Sneha</th>                       <td>   -4.3691</td> <td>    1.767</td> <td>   -2.473</td> <td> 0.013</td> <td>   -7.832</td> <td>   -0.906</td>\n",
       "</tr>\n",
       "<tr>\n",
       "  <th>Toby</th>                        <td>   52.9478</td> <td>    1.036</td> <td>   51.085</td> <td> 0.000</td> <td>   50.916</td> <td>   54.979</td>\n",
       "</tr>\n",
       "<tr>\n",
       "  <th>Vicky</th>                       <td>    8.8216</td> <td>    1.271</td> <td>    6.941</td> <td> 0.000</td> <td>    6.330</td> <td>   11.313</td>\n",
       "</tr>\n",
       "<tr>\n",
       "  <th>Viveka</th>                      <td>  -56.0297</td> <td>    1.421</td> <td>  -39.441</td> <td> 0.000</td> <td>  -58.814</td> <td>  -53.245</td>\n",
       "</tr>\n",
       "<tr>\n",
       "  <th>You</th>                         <td>  -13.9623</td> <td>    1.206</td> <td>  -11.573</td> <td> 0.000</td> <td>  -16.327</td> <td>  -11.597</td>\n",
       "</tr>\n",
       "<tr>\n",
       "  <th>Zuraimi</th>                     <td>  -17.2881</td> <td>    1.178</td> <td>  -14.680</td> <td> 0.000</td> <td>  -19.596</td> <td>  -14.980</td>\n",
       "</tr>\n",
       "<tr>\n",
       "  <th>Hour_0</th>                      <td>   20.1328</td> <td>    1.097</td> <td>   18.354</td> <td> 0.000</td> <td>   17.983</td> <td>   22.283</td>\n",
       "</tr>\n",
       "<tr>\n",
       "  <th>Hour_1</th>                      <td>   21.8744</td> <td>    1.089</td> <td>   20.086</td> <td> 0.000</td> <td>   19.740</td> <td>   24.009</td>\n",
       "</tr>\n",
       "<tr>\n",
       "  <th>Hour_2</th>                      <td>   21.9250</td> <td>    1.089</td> <td>   20.125</td> <td> 0.000</td> <td>   19.790</td> <td>   24.060</td>\n",
       "</tr>\n",
       "<tr>\n",
       "  <th>Hour_3</th>                      <td>   16.1863</td> <td>    1.081</td> <td>   14.971</td> <td> 0.000</td> <td>   14.067</td> <td>   18.305</td>\n",
       "</tr>\n",
       "<tr>\n",
       "  <th>Hour_4</th>                      <td>    4.1879</td> <td>    1.089</td> <td>    3.846</td> <td> 0.000</td> <td>    2.054</td> <td>    6.322</td>\n",
       "</tr>\n",
       "<tr>\n",
       "  <th>Hour_5</th>                      <td>   -4.0843</td> <td>    1.087</td> <td>   -3.759</td> <td> 0.000</td> <td>   -6.214</td> <td>   -1.954</td>\n",
       "</tr>\n",
       "<tr>\n",
       "  <th>Hour_6</th>                      <td>   -5.0511</td> <td>    1.098</td> <td>   -4.600</td> <td> 0.000</td> <td>   -7.203</td> <td>   -2.899</td>\n",
       "</tr>\n",
       "<tr>\n",
       "  <th>Hour_7</th>                      <td>   -7.0289</td> <td>    1.078</td> <td>   -6.521</td> <td> 0.000</td> <td>   -9.142</td> <td>   -4.916</td>\n",
       "</tr>\n",
       "<tr>\n",
       "  <th>Hour_8</th>                      <td>   -8.5633</td> <td>    1.085</td> <td>   -7.893</td> <td> 0.000</td> <td>  -10.690</td> <td>   -6.437</td>\n",
       "</tr>\n",
       "<tr>\n",
       "  <th>Hour_9</th>                      <td>  -13.1931</td> <td>    4.654</td> <td>   -2.834</td> <td> 0.005</td> <td>  -22.316</td> <td>   -4.070</td>\n",
       "</tr>\n",
       "<tr>\n",
       "  <th>Hour_10</th>                     <td>  -12.8459</td> <td>    1.273</td> <td>  -10.089</td> <td> 0.000</td> <td>  -15.342</td> <td>  -10.350</td>\n",
       "</tr>\n",
       "<tr>\n",
       "  <th>Hour_11</th>                     <td>  -10.3768</td> <td>    1.087</td> <td>   -9.548</td> <td> 0.000</td> <td>  -12.507</td> <td>   -8.247</td>\n",
       "</tr>\n",
       "<tr>\n",
       "  <th>Hour_12</th>                     <td>  -10.9458</td> <td>    1.075</td> <td>  -10.186</td> <td> 0.000</td> <td>  -13.052</td> <td>   -8.840</td>\n",
       "</tr>\n",
       "<tr>\n",
       "  <th>Hour_13</th>                     <td>  -11.1710</td> <td>    1.085</td> <td>  -10.295</td> <td> 0.000</td> <td>  -13.298</td> <td>   -9.044</td>\n",
       "</tr>\n",
       "<tr>\n",
       "  <th>Hour_14</th>                     <td>  -10.4700</td> <td>    1.081</td> <td>   -9.686</td> <td> 0.000</td> <td>  -12.589</td> <td>   -8.351</td>\n",
       "</tr>\n",
       "<tr>\n",
       "  <th>Hour_15</th>                     <td>  -11.4866</td> <td>    1.090</td> <td>  -10.540</td> <td> 0.000</td> <td>  -13.623</td> <td>   -9.350</td>\n",
       "</tr>\n",
       "<tr>\n",
       "  <th>Hour_16</th>                     <td>  -11.1232</td> <td>    1.080</td> <td>  -10.297</td> <td> 0.000</td> <td>  -13.241</td> <td>   -9.006</td>\n",
       "</tr>\n",
       "<tr>\n",
       "  <th>Hour_17</th>                     <td>  -10.9161</td> <td>    1.084</td> <td>  -10.072</td> <td> 0.000</td> <td>  -13.040</td> <td>   -8.792</td>\n",
       "</tr>\n",
       "<tr>\n",
       "  <th>Hour_18</th>                     <td>   -4.7718</td> <td>    1.084</td> <td>   -4.400</td> <td> 0.000</td> <td>   -6.897</td> <td>   -2.646</td>\n",
       "</tr>\n",
       "<tr>\n",
       "  <th>Hour_19</th>                     <td>    7.3434</td> <td>    1.085</td> <td>    6.765</td> <td> 0.000</td> <td>    5.216</td> <td>    9.471</td>\n",
       "</tr>\n",
       "<tr>\n",
       "  <th>Hour_20</th>                     <td>   10.8311</td> <td>    1.085</td> <td>    9.986</td> <td> 0.000</td> <td>    8.705</td> <td>   12.957</td>\n",
       "</tr>\n",
       "<tr>\n",
       "  <th>Hour_21</th>                     <td>   13.3480</td> <td>    1.083</td> <td>   12.322</td> <td> 0.000</td> <td>   11.225</td> <td>   15.471</td>\n",
       "</tr>\n",
       "<tr>\n",
       "  <th>Hour_22</th>                     <td>   10.1970</td> <td>    1.093</td> <td>    9.325</td> <td> 0.000</td> <td>    8.054</td> <td>   12.340</td>\n",
       "</tr>\n",
       "<tr>\n",
       "  <th>Hour_23</th>                     <td>    9.0036</td> <td>    1.069</td> <td>    8.419</td> <td> 0.000</td> <td>    6.907</td> <td>   11.100</td>\n",
       "</tr>\n",
       "</table>\n",
       "<table class=\"simpletable\">\n",
       "<tr>\n",
       "  <th>Omnibus:</th>       <td>13663.334</td> <th>  Durbin-Watson:     </th>  <td>   1.996</td> \n",
       "</tr>\n",
       "<tr>\n",
       "  <th>Prob(Omnibus):</th>  <td> 0.000</td>   <th>  Jarque-Bera (JB):  </th> <td>932882.685</td>\n",
       "</tr>\n",
       "<tr>\n",
       "  <th>Skew:</th>           <td> 2.094</td>   <th>  Prob(JB):          </th>  <td>    0.00</td> \n",
       "</tr>\n",
       "<tr>\n",
       "  <th>Kurtosis:</th>       <td>33.998</td>   <th>  Cond. No.          </th>  <td>8.25e+16</td> \n",
       "</tr>\n",
       "</table><br/><br/>Warnings:<br/>[1] Standard Errors assume that the covariance matrix of the errors is correctly specified.<br/>[2] The smallest eigenvalue is 5.83e-27. This might indicate that there are<br/>strong multicollinearity problems or that the design matrix is singular."
      ],
      "text/plain": [
       "<class 'statsmodels.iolib.summary.Summary'>\n",
       "\"\"\"\n",
       "                            OLS Regression Results                            \n",
       "==============================================================================\n",
       "Dep. Variable:           HourlyEnergy   R-squared:                       0.673\n",
       "Model:                            OLS   Adj. R-squared:                  0.672\n",
       "Method:                 Least Squares   F-statistic:                     794.8\n",
       "Date:                Thu, 19 Dec 2019   Prob (F-statistic):               0.00\n",
       "Time:                        21:58:06   Log-Likelihood:            -1.1277e+05\n",
       "No. Observations:               22883   AIC:                         2.257e+05\n",
       "Df Residuals:                   22823   BIC:                         2.262e+05\n",
       "Df Model:                          59                                         \n",
       "Covariance Type:            nonrobust                                         \n",
       "===============================================================================================\n",
       "                                  coef    std err          t      P>|t|      [0.025      0.975]\n",
       "-----------------------------------------------------------------------------------------------\n",
       "Intercept                       3.0016      6.453      0.465      0.642      -9.646      15.649\n",
       "Weekend_Indicator              -7.0994      0.762     -9.315      0.000      -8.593      -5.606\n",
       "Treatment_A_Indicator         -11.0315      1.751     -6.301      0.000     -14.463      -7.600\n",
       "Treatment_B_Indicator          -8.9425      1.865     -4.796      0.000     -12.597      -5.288\n",
       "Treatment_control_Indicator   -11.4532      2.128     -5.382      0.000     -15.625      -7.282\n",
       "NonParticipant                 34.4288      1.633     21.082      0.000      31.228      37.630\n",
       "DailyLoginCount                -0.8761      0.464     -1.888      0.059      -1.785       0.033\n",
       "DailyDurationCount             -0.0369      0.132     -0.279      0.780      -0.296       0.222\n",
       "DailyRainfallTotal             -0.1251      0.127     -0.988      0.323      -0.373       0.123\n",
       "Highest30MinRainfall            0.4879      0.174      2.808      0.005       0.147       0.829\n",
       "Highest60MinRainfall           -0.3709      0.196     -1.897      0.058      -0.754       0.012\n",
       "MeanTemperature                 2.4431      0.585      4.173      0.000       1.296       3.590\n",
       "MaximumTemperature             -1.3299      0.503     -2.642      0.008      -2.317      -0.343\n",
       "Ajeet                         -17.1946      1.306    -13.168      0.000     -19.754     -14.635\n",
       "Ashish                         -7.8803      2.060     -3.825      0.000     -11.918      -3.842\n",
       "Asit                          -11.8264      1.202     -9.841      0.000     -14.182      -9.471\n",
       "Baison                         -5.9976      1.133     -5.291      0.000      -8.219      -3.776\n",
       "Benjamin                      -15.0309      1.219    -12.326      0.000     -17.421     -12.641\n",
       "Caren                         -11.0683      1.255     -8.817      0.000     -13.529      -8.608\n",
       "Chayle                         29.4188      1.221     24.094      0.000      27.026      31.812\n",
       "Christopher                    14.7694      1.177     12.544      0.000      12.462      17.077\n",
       "Daphne                         19.1583      1.079     17.750      0.000      17.043      21.274\n",
       "Edwin                          15.7768      1.658      9.517      0.000      12.527      19.026\n",
       "Giri                          -16.5676      1.380    -12.007      0.000     -19.272     -13.863\n",
       "Hoan                          -19.8939      1.365    -14.573      0.000     -22.570     -17.218\n",
       "Jiayu                         217.5710      1.233    176.479      0.000     215.154     219.987\n",
       "Keith                         -53.8531      1.110    -48.515      0.000     -56.029     -51.677\n",
       "Ken                            -4.4503      1.268     -3.510      0.000      -6.936      -1.965\n",
       "Manish                         -9.1921      1.351     -6.805      0.000     -11.840      -6.545\n",
       "Ola                           -17.7345      1.522    -11.652      0.000     -20.718     -14.751\n",
       "Pandarasamy                   -58.2285      1.043    -55.821      0.000     -60.273     -56.184\n",
       "Prakhar                         8.1010      0.905      8.949      0.000       6.327       9.875\n",
       "Ramit                          -7.4931      1.375     -5.448      0.000     -10.189      -4.797\n",
       "Sivaraam                      -15.5028      1.356    -11.435      0.000     -18.160     -12.846\n",
       "Sneha                          -4.3691      1.767     -2.473      0.013      -7.832      -0.906\n",
       "Toby                           52.9478      1.036     51.085      0.000      50.916      54.979\n",
       "Vicky                           8.8216      1.271      6.941      0.000       6.330      11.313\n",
       "Viveka                        -56.0297      1.421    -39.441      0.000     -58.814     -53.245\n",
       "You                           -13.9623      1.206    -11.573      0.000     -16.327     -11.597\n",
       "Zuraimi                       -17.2881      1.178    -14.680      0.000     -19.596     -14.980\n",
       "Hour_0                         20.1328      1.097     18.354      0.000      17.983      22.283\n",
       "Hour_1                         21.8744      1.089     20.086      0.000      19.740      24.009\n",
       "Hour_2                         21.9250      1.089     20.125      0.000      19.790      24.060\n",
       "Hour_3                         16.1863      1.081     14.971      0.000      14.067      18.305\n",
       "Hour_4                          4.1879      1.089      3.846      0.000       2.054       6.322\n",
       "Hour_5                         -4.0843      1.087     -3.759      0.000      -6.214      -1.954\n",
       "Hour_6                         -5.0511      1.098     -4.600      0.000      -7.203      -2.899\n",
       "Hour_7                         -7.0289      1.078     -6.521      0.000      -9.142      -4.916\n",
       "Hour_8                         -8.5633      1.085     -7.893      0.000     -10.690      -6.437\n",
       "Hour_9                        -13.1931      4.654     -2.834      0.005     -22.316      -4.070\n",
       "Hour_10                       -12.8459      1.273    -10.089      0.000     -15.342     -10.350\n",
       "Hour_11                       -10.3768      1.087     -9.548      0.000     -12.507      -8.247\n",
       "Hour_12                       -10.9458      1.075    -10.186      0.000     -13.052      -8.840\n",
       "Hour_13                       -11.1710      1.085    -10.295      0.000     -13.298      -9.044\n",
       "Hour_14                       -10.4700      1.081     -9.686      0.000     -12.589      -8.351\n",
       "Hour_15                       -11.4866      1.090    -10.540      0.000     -13.623      -9.350\n",
       "Hour_16                       -11.1232      1.080    -10.297      0.000     -13.241      -9.006\n",
       "Hour_17                       -10.9161      1.084    -10.072      0.000     -13.040      -8.792\n",
       "Hour_18                        -4.7718      1.084     -4.400      0.000      -6.897      -2.646\n",
       "Hour_19                         7.3434      1.085      6.765      0.000       5.216       9.471\n",
       "Hour_20                        10.8311      1.085      9.986      0.000       8.705      12.957\n",
       "Hour_21                        13.3480      1.083     12.322      0.000      11.225      15.471\n",
       "Hour_22                        10.1970      1.093      9.325      0.000       8.054      12.340\n",
       "Hour_23                         9.0036      1.069      8.419      0.000       6.907      11.100\n",
       "==============================================================================\n",
       "Omnibus:                    13663.334   Durbin-Watson:                   1.996\n",
       "Prob(Omnibus):                  0.000   Jarque-Bera (JB):           932882.685\n",
       "Skew:                           2.094   Prob(JB):                         0.00\n",
       "Kurtosis:                      33.998   Cond. No.                     8.25e+16\n",
       "==============================================================================\n",
       "\n",
       "Warnings:\n",
       "[1] Standard Errors assume that the covariance matrix of the errors is correctly specified.\n",
       "[2] The smallest eigenvalue is 5.83e-27. This might indicate that there are\n",
       "strong multicollinearity problems or that the design matrix is singular.\n",
       "\"\"\""
      ]
     },
     "execution_count": 225,
     "metadata": {},
     "output_type": "execute_result"
    }
   ],
   "source": [
    "#a comment\n",
    "results = smf.ols(formula_during, data=X_train).fit()\n",
    "#just a comment\n",
    "results.summary()"
   ]
  },
  {
   "cell_type": "code",
   "execution_count": 226,
   "metadata": {},
   "outputs": [],
   "source": [
    "pred_during_train = results.predict(X_train)"
   ]
  },
  {
   "cell_type": "code",
   "execution_count": 156,
   "metadata": {},
   "outputs": [],
   "source": []
  },
  {
   "cell_type": "code",
   "execution_count": 227,
   "metadata": {},
   "outputs": [
    {
     "name": "stdout",
     "output_type": "stream",
     "text": [
      "33.42641986465894 19.65014247781663 0.6726424719002386\n"
     ]
    }
   ],
   "source": [
    "rmse = (mean_squared_error(pred_during_train, y_train))**0.5 #rmse\n",
    "mae = mean_absolute_error(pred_during_train, y_train)\n",
    "r2 = r2_score(y_train,pred_during_train)\n",
    "print(rmse, mae, r2)"
   ]
  },
  {
   "cell_type": "code",
   "execution_count": 228,
   "metadata": {},
   "outputs": [],
   "source": [
    "pred_during_test = results.predict(X_test)"
   ]
  },
  {
   "cell_type": "code",
   "execution_count": 229,
   "metadata": {},
   "outputs": [
    {
     "name": "stdout",
     "output_type": "stream",
     "text": [
      "33.561907231099916 19.5184597542488 0.6660471976844549\n"
     ]
    }
   ],
   "source": [
    "\n",
    "rmse = (mean_squared_error(pred_during_test, y_test))**0.5 #rmse\n",
    "mae = mean_absolute_error(pred_during_test, y_test)\n",
    "r2 = r2_score(y_test,pred_during_test )\n",
    "print(rmse, mae, r2)"
   ]
  },
  {
   "cell_type": "code",
   "execution_count": 230,
   "metadata": {},
   "outputs": [
    {
     "data": {
      "text/plain": [
       "[<matplotlib.lines.Line2D at 0x1c1dd1ec88>]"
      ]
     },
     "execution_count": 230,
     "metadata": {},
     "output_type": "execute_result"
    },
    {
     "data": {
      "image/png": "[encoded data removed]",
      "text/plain": [
       "<Figure size 432x288 with 1 Axes>"
      ]
     },
     "metadata": {
      "needs_background": "light"
     },
     "output_type": "display_data"
    }
   ],
   "source": [
    "fig, ax = plt.subplots()\n",
    "sns.scatterplot(y_test, pred_during_test, ax = ax)\n",
    "plt.plot(np.linspace(0,100), np.linspace(0, 100), color='r')"
   ]
  },
  {
   "cell_type": "code",
   "execution_count": 231,
   "metadata": {},
   "outputs": [],
   "source": [
    "#now on to sklearn models\n",
    "X_train = X_train.drop(columns=[\"HourlyEnergy\"])\n",
    "X_test = X_test.drop(columns=['HourlyEnergy'])"
   ]
  },
  {
   "cell_type": "code",
   "execution_count": 232,
   "metadata": {},
   "outputs": [],
   "source": [
    "#k nearest neighbors\n",
    "mod = KNeighborsRegressor(n_neighbors = 1)\n",
    "mod.fit(X_train, y_train)\n",
    "pred = mod.predict(X_test)"
   ]
  },
  {
   "cell_type": "code",
   "execution_count": 233,
   "metadata": {},
   "outputs": [
    {
     "name": "stdout",
     "output_type": "stream",
     "text": [
      "41.18707965706269 23.117963248778185 0.4970627228292288\n"
     ]
    }
   ],
   "source": [
    "rmse = (mean_squared_error(pred, y_test))**0.5 #rmse\n",
    "mae = mean_absolute_error(pred, y_test)\n",
    "r2 = r2_score(y_test,pred)\n",
    "print(rmse, mae, r2)"
   ]
  },
  {
   "cell_type": "code",
   "execution_count": 129,
   "metadata": {},
   "outputs": [],
   "source": [
    "#K means\n",
    "mod2 = KMeans(n_clusters=20)\n",
    "mod2.fit(X_train, y_train)\n",
    "pred = mod2.predict(X_test)"
   ]
  },
  {
   "cell_type": "code",
   "execution_count": 130,
   "metadata": {},
   "outputs": [
    {
     "name": "stdout",
     "output_type": "stream",
     "text": [
      "36.398328903301305 23.050330143602572 -0.27711233459758544\n"
     ]
    }
   ],
   "source": [
    "rmse = (mean_squared_error(pred, y_test))**0.5 #rmse\n",
    "mae = mean_absolute_error(pred, y_test)\n",
    "r2 = r2_score(y_test, pred)\n",
    "print(rmse, mae, r2)"
   ]
  },
  {
   "cell_type": "code",
   "execution_count": 234,
   "metadata": {},
   "outputs": [
    {
     "name": "stderr",
     "output_type": "stream",
     "text": [
      "/anaconda3/lib/python3.7/site-packages/sklearn/ensemble/forest.py:246: FutureWarning: The default value of n_estimators will change from 10 in version 0.20 to 100 in 0.22.\n",
      "  \"10 in version 0.20 to 100 in 0.22.\", FutureWarning)\n"
     ]
    }
   ],
   "source": [
    "#rf regressor\n",
    "mod4 = RandomForestRegressor()\n",
    "mod4.fit(X_train, y_train)\n",
    "pred = mod4.predict(X_test)"
   ]
  },
  {
   "cell_type": "code",
   "execution_count": 235,
   "metadata": {},
   "outputs": [
    {
     "name": "stdout",
     "output_type": "stream",
     "text": [
      "28.427147294099274 14.855690316262761 0.7604156827822558\n"
     ]
    }
   ],
   "source": [
    "rmse = (mean_squared_error(pred, y_test))**0.5 #rmse\n",
    "mae = mean_absolute_error(pred, y_test)\n",
    "r2 = r2_score(y_test, pred)\n",
    "print(rmse, mae, r2)"
   ]
  },
  {
   "cell_type": "code",
   "execution_count": 133,
   "metadata": {},
   "outputs": [],
   "source": [
    "#bagging\n",
    "mod5 = BaggingRegressor()\n",
    "mod5.fit(X_train, y_train)\n",
    "pred = mod5.predict(X_test)"
   ]
  },
  {
   "cell_type": "code",
   "execution_count": 134,
   "metadata": {},
   "outputs": [
    {
     "name": "stdout",
     "output_type": "stream",
     "text": [
      "23.26797592774865 13.65341425011749 0.4781046577376339\n"
     ]
    }
   ],
   "source": [
    "rmse = (mean_squared_error(pred, y_test))**0.5 #rmse\n",
    "mae = mean_absolute_error(pred, y_test)\n",
    "r2 = r2_score(y_test,pred)\n",
    "print(rmse, mae, r2)"
   ]
  },
  {
   "cell_type": "code",
   "execution_count": 236,
   "metadata": {},
   "outputs": [],
   "source": [
    "#boosting\n",
    "mod6 = GradientBoostingRegressor()\n",
    "mod6.fit(X_train, y_train)\n",
    "pred = mod6.predict(X_test)"
   ]
  },
  {
   "cell_type": "code",
   "execution_count": 237,
   "metadata": {},
   "outputs": [
    {
     "name": "stdout",
     "output_type": "stream",
     "text": [
      "28.442560418890842 18.771000400417492 0.7601558083714365\n"
     ]
    }
   ],
   "source": [
    "rmse = (mean_squared_error(pred, y_test))**0.5 #rmse\n",
    "mae = mean_absolute_error(pred, y_test)\n",
    "r2 = r2_score(y_test,pred)\n",
    "print(rmse, mae, r2)"
   ]
  },
  {
   "cell_type": "markdown",
   "metadata": {},
   "source": [
    "## DuringTreatment, First Model Applied"
   ]
  },
  {
   "cell_type": "code",
   "execution_count": 159,
   "metadata": {},
   "outputs": [],
   "source": [
    "period_data = no_na[is_during]\n",
    "y = period_data[\"HourlyEnergy\"]\n",
    "X = period_data.drop(columns=[\"TotalEnergy\", \"Date\", \"WorkGroup\"])\n",
    "X = pd.concat([X, pd.get_dummies(X['Name'])], axis=1)\n",
    "X = X.dropna(axis=1)\n",
    "X = pd.concat([X, pd.get_dummies(X['Day of Week'])], axis=1)\n",
    "X = X.drop(columns = ['Day of Week', 'OutOfOffice', 'Treatment_A_Indicator', \n",
    "                      'Treatment_B_Indicator', 'Treatment_control_Indicator', 'Treatment_Administered_Indicator',\n",
    "                      'NonParticipant', 'DailyLoginCount', 'DailyDurationCount'])\n",
    "X['Hour'] = X['Hour'].astype(int)\n",
    "X = pd.concat([X, pd.get_dummies(X['Hour'], prefix='Hour')], axis=1)\n",
    "X = X.drop(columns = ['Datetime', 'Hour'])\n",
    "X = X.rename(columns={'Asit Mishra': \"Asit\", 'Baison Ning': \"Baison\", 'Caren Liew': \"Caren\", 'Toby Cheung': 'Toby', 'You Chun':'You'})\n",
    "X = X.drop(columns=['Name'])"
   ]
  },
  {
   "cell_type": "code",
   "execution_count": 160,
   "metadata": {},
   "outputs": [],
   "source": [
    "X_train, X_test, y_train, y_test = train_test_split(X, y, test_size=0.2, random_state=1)"
   ]
  },
  {
   "cell_type": "code",
   "execution_count": 161,
   "metadata": {},
   "outputs": [],
   "source": [
    "pred_during_byfirst=pre_train_mod.predict(X_test)"
   ]
  },
  {
   "cell_type": "code",
   "execution_count": 162,
   "metadata": {},
   "outputs": [
    {
     "name": "stdout",
     "output_type": "stream",
     "text": [
      "55.6565279168679 25.24938067547512 0.08161655500749776\n"
     ]
    }
   ],
   "source": [
    "rmse = (mean_squared_error(pred_during_byfirst, y_test))**0.5 #rmse\n",
    "mae = mean_absolute_error(pred_during_byfirst, y_test)\n",
    "r2 = r2_score(y_test,pred_during_byfirst)\n",
    "print(rmse, mae, r2)"
   ]
  },
  {
   "cell_type": "markdown",
   "metadata": {},
   "source": [
    "## Posttreatment"
   ]
  },
  {
   "cell_type": "code",
   "execution_count": 163,
   "metadata": {},
   "outputs": [],
   "source": [
    "treatment_proportions = pd.read_csv('treatment_proportions.csv')"
   ]
  },
  {
   "cell_type": "code",
   "execution_count": 164,
   "metadata": {},
   "outputs": [
    {
     "data": {
      "text/html": [
       "<div>\n",
       "<style scoped>\n",
       "    .dataframe tbody tr th:only-of-type {\n",
       "        vertical-align: middle;\n",
       "    }\n",
       "\n",
       "    .dataframe tbody tr th {\n",
       "        vertical-align: top;\n",
       "    }\n",
       "\n",
       "    .dataframe thead th {\n",
       "        text-align: right;\n",
       "    }\n",
       "</style>\n",
       "<table border=\"1\" class=\"dataframe\">\n",
       "  <thead>\n",
       "    <tr style=\"text-align: right;\">\n",
       "      <th></th>\n",
       "      <th>Name</th>\n",
       "      <th>TreatmentA</th>\n",
       "      <th>TreatmentB</th>\n",
       "      <th>Control</th>\n",
       "    </tr>\n",
       "  </thead>\n",
       "  <tbody>\n",
       "    <tr>\n",
       "      <th>0</th>\n",
       "      <td>Ken</td>\n",
       "      <td>0.875204</td>\n",
       "      <td>0.124796</td>\n",
       "      <td>0.000000</td>\n",
       "    </tr>\n",
       "    <tr>\n",
       "      <th>1</th>\n",
       "      <td>Sivaraam</td>\n",
       "      <td>0.218684</td>\n",
       "      <td>0.781316</td>\n",
       "      <td>0.000000</td>\n",
       "    </tr>\n",
       "    <tr>\n",
       "      <th>2</th>\n",
       "      <td>Sneha</td>\n",
       "      <td>0.236538</td>\n",
       "      <td>0.000000</td>\n",
       "      <td>0.763462</td>\n",
       "    </tr>\n",
       "    <tr>\n",
       "      <th>3</th>\n",
       "      <td>Christopher</td>\n",
       "      <td>0.794145</td>\n",
       "      <td>0.205855</td>\n",
       "      <td>0.000000</td>\n",
       "    </tr>\n",
       "    <tr>\n",
       "      <th>4</th>\n",
       "      <td>Giri</td>\n",
       "      <td>0.684932</td>\n",
       "      <td>0.315068</td>\n",
       "      <td>0.000000</td>\n",
       "    </tr>\n",
       "    <tr>\n",
       "      <th>5</th>\n",
       "      <td>Ajeet</td>\n",
       "      <td>1.000000</td>\n",
       "      <td>0.000000</td>\n",
       "      <td>0.000000</td>\n",
       "    </tr>\n",
       "    <tr>\n",
       "      <th>6</th>\n",
       "      <td>Chayle</td>\n",
       "      <td>0.673684</td>\n",
       "      <td>0.326316</td>\n",
       "      <td>0.000000</td>\n",
       "    </tr>\n",
       "    <tr>\n",
       "      <th>7</th>\n",
       "      <td>Ramit</td>\n",
       "      <td>0.324834</td>\n",
       "      <td>0.675166</td>\n",
       "      <td>0.000000</td>\n",
       "    </tr>\n",
       "    <tr>\n",
       "      <th>8</th>\n",
       "      <td>Prakhar</td>\n",
       "      <td>1.000000</td>\n",
       "      <td>0.000000</td>\n",
       "      <td>0.000000</td>\n",
       "    </tr>\n",
       "    <tr>\n",
       "      <th>9</th>\n",
       "      <td>Komang</td>\n",
       "      <td>1.000000</td>\n",
       "      <td>0.000000</td>\n",
       "      <td>0.000000</td>\n",
       "    </tr>\n",
       "    <tr>\n",
       "      <th>10</th>\n",
       "      <td>Vicky</td>\n",
       "      <td>0.227941</td>\n",
       "      <td>0.772059</td>\n",
       "      <td>0.000000</td>\n",
       "    </tr>\n",
       "    <tr>\n",
       "      <th>11</th>\n",
       "      <td>Hoan</td>\n",
       "      <td>0.162245</td>\n",
       "      <td>0.837755</td>\n",
       "      <td>0.000000</td>\n",
       "    </tr>\n",
       "    <tr>\n",
       "      <th>12</th>\n",
       "      <td>Ashish</td>\n",
       "      <td>0.000000</td>\n",
       "      <td>0.000000</td>\n",
       "      <td>1.000000</td>\n",
       "    </tr>\n",
       "    <tr>\n",
       "      <th>13</th>\n",
       "      <td>Manish</td>\n",
       "      <td>1.000000</td>\n",
       "      <td>0.000000</td>\n",
       "      <td>0.000000</td>\n",
       "    </tr>\n",
       "    <tr>\n",
       "      <th>14</th>\n",
       "      <td>Zuraimi</td>\n",
       "      <td>0.775111</td>\n",
       "      <td>0.224889</td>\n",
       "      <td>0.000000</td>\n",
       "    </tr>\n",
       "    <tr>\n",
       "      <th>15</th>\n",
       "      <td>Edwin</td>\n",
       "      <td>0.237600</td>\n",
       "      <td>0.000000</td>\n",
       "      <td>0.762400</td>\n",
       "    </tr>\n",
       "    <tr>\n",
       "      <th>16</th>\n",
       "      <td>Keith</td>\n",
       "      <td>0.000000</td>\n",
       "      <td>0.000000</td>\n",
       "      <td>0.000000</td>\n",
       "    </tr>\n",
       "    <tr>\n",
       "      <th>17</th>\n",
       "      <td>Jiayu</td>\n",
       "      <td>0.000000</td>\n",
       "      <td>0.000000</td>\n",
       "      <td>0.000000</td>\n",
       "    </tr>\n",
       "    <tr>\n",
       "      <th>18</th>\n",
       "      <td>Ola</td>\n",
       "      <td>0.000000</td>\n",
       "      <td>1.000000</td>\n",
       "      <td>0.000000</td>\n",
       "    </tr>\n",
       "    <tr>\n",
       "      <th>19</th>\n",
       "      <td>Asit</td>\n",
       "      <td>0.768143</td>\n",
       "      <td>0.231857</td>\n",
       "      <td>0.000000</td>\n",
       "    </tr>\n",
       "    <tr>\n",
       "      <th>20</th>\n",
       "      <td>Baison</td>\n",
       "      <td>1.000000</td>\n",
       "      <td>0.000000</td>\n",
       "      <td>0.000000</td>\n",
       "    </tr>\n",
       "    <tr>\n",
       "      <th>21</th>\n",
       "      <td>Benjamin</td>\n",
       "      <td>0.000000</td>\n",
       "      <td>0.000000</td>\n",
       "      <td>0.000000</td>\n",
       "    </tr>\n",
       "    <tr>\n",
       "      <th>22</th>\n",
       "      <td>Caren</td>\n",
       "      <td>1.000000</td>\n",
       "      <td>0.000000</td>\n",
       "      <td>0.000000</td>\n",
       "    </tr>\n",
       "    <tr>\n",
       "      <th>23</th>\n",
       "      <td>You</td>\n",
       "      <td>1.000000</td>\n",
       "      <td>0.000000</td>\n",
       "      <td>0.000000</td>\n",
       "    </tr>\n",
       "    <tr>\n",
       "      <th>24</th>\n",
       "      <td>Daphne</td>\n",
       "      <td>1.000000</td>\n",
       "      <td>0.000000</td>\n",
       "      <td>0.000000</td>\n",
       "    </tr>\n",
       "    <tr>\n",
       "      <th>25</th>\n",
       "      <td>Pandarasamy</td>\n",
       "      <td>0.000000</td>\n",
       "      <td>0.000000</td>\n",
       "      <td>0.000000</td>\n",
       "    </tr>\n",
       "    <tr>\n",
       "      <th>26</th>\n",
       "      <td>Toby</td>\n",
       "      <td>1.000000</td>\n",
       "      <td>0.000000</td>\n",
       "      <td>0.000000</td>\n",
       "    </tr>\n",
       "    <tr>\n",
       "      <th>27</th>\n",
       "      <td>Viveka</td>\n",
       "      <td>0.000000</td>\n",
       "      <td>0.000000</td>\n",
       "      <td>0.000000</td>\n",
       "    </tr>\n",
       "  </tbody>\n",
       "</table>\n",
       "</div>"
      ],
      "text/plain": [
       "           Name  TreatmentA  TreatmentB   Control\n",
       "0           Ken    0.875204    0.124796  0.000000\n",
       "1      Sivaraam    0.218684    0.781316  0.000000\n",
       "2         Sneha    0.236538    0.000000  0.763462\n",
       "3   Christopher    0.794145    0.205855  0.000000\n",
       "4          Giri    0.684932    0.315068  0.000000\n",
       "5         Ajeet    1.000000    0.000000  0.000000\n",
       "6        Chayle    0.673684    0.326316  0.000000\n",
       "7         Ramit    0.324834    0.675166  0.000000\n",
       "8       Prakhar    1.000000    0.000000  0.000000\n",
       "9        Komang    1.000000    0.000000  0.000000\n",
       "10        Vicky    0.227941    0.772059  0.000000\n",
       "11         Hoan    0.162245    0.837755  0.000000\n",
       "12       Ashish    0.000000    0.000000  1.000000\n",
       "13       Manish    1.000000    0.000000  0.000000\n",
       "14      Zuraimi    0.775111    0.224889  0.000000\n",
       "15        Edwin    0.237600    0.000000  0.762400\n",
       "16        Keith    0.000000    0.000000  0.000000\n",
       "17        Jiayu    0.000000    0.000000  0.000000\n",
       "18          Ola    0.000000    1.000000  0.000000\n",
       "19         Asit    0.768143    0.231857  0.000000\n",
       "20       Baison    1.000000    0.000000  0.000000\n",
       "21     Benjamin    0.000000    0.000000  0.000000\n",
       "22        Caren    1.000000    0.000000  0.000000\n",
       "23          You    1.000000    0.000000  0.000000\n",
       "24       Daphne    1.000000    0.000000  0.000000\n",
       "25  Pandarasamy    0.000000    0.000000  0.000000\n",
       "26         Toby    1.000000    0.000000  0.000000\n",
       "27       Viveka    0.000000    0.000000  0.000000"
      ]
     },
     "execution_count": 164,
     "metadata": {},
     "output_type": "execute_result"
    }
   ],
   "source": [
    "treatment_proportions"
   ]
  },
  {
   "cell_type": "code",
   "execution_count": 181,
   "metadata": {},
   "outputs": [],
   "source": [
    "#lets do post treatment now\n",
    "#lets start with the first period\n",
    "period_data = no_na[is_after]\n",
    "period_data = period_data.dropna()\n",
    "y = period_data[\"HourlyEnergy\"]\n",
    "X = period_data.drop(columns=[\"TotalEnergy\", \"Date\", \"WorkGroup\"])\n",
    "X = pd.concat([X, pd.get_dummies(X['Name'])], axis=1)\n",
    "X = X.dropna(axis=1)\n",
    "# X = X.drop(columns=['Name'])\n",
    "X = pd.concat([X, pd.get_dummies(X['Day of Week'])], axis=1)\n",
    "X = X.drop(columns = ['Day of Week', 'OutOfOffice', 'Treatment_A_Indicator', \n",
    "                      'Treatment_B_Indicator', 'Treatment_control_Indicator',\n",
    "                      'NonParticipant', 'DailyLoginCount', 'DailyDurationCount'])\n",
    "X['Hour'] = X['Hour'].astype(int)\n",
    "X = pd.concat([X, pd.get_dummies(X['Hour'], prefix='Hour')], axis=1)\n",
    "X = X.drop(columns = ['Datetime', 'Hour'])\n",
    "#X = X.rename(columns={'Asit Mishra': \"Asit\", 'Baison Ning': \"Baison\", 'Caren Liew': \"Caren\", 'Toby Cheung': 'Toby', 'You Chun':'You'})\n"
   ]
  },
  {
   "cell_type": "code",
   "execution_count": 182,
   "metadata": {},
   "outputs": [],
   "source": [
    "X = X.merge(how=\"left\", on='Name', right=treatment_proportions)"
   ]
  },
  {
   "cell_type": "code",
   "execution_count": 183,
   "metadata": {},
   "outputs": [],
   "source": [
    "X = X.dropna()\n",
    "y = X['HourlyEnergy']"
   ]
  },
  {
   "cell_type": "code",
   "execution_count": 184,
   "metadata": {},
   "outputs": [
    {
     "data": {
      "text/html": [
       "<div>\n",
       "<style scoped>\n",
       "    .dataframe tbody tr th:only-of-type {\n",
       "        vertical-align: middle;\n",
       "    }\n",
       "\n",
       "    .dataframe tbody tr th {\n",
       "        vertical-align: top;\n",
       "    }\n",
       "\n",
       "    .dataframe thead th {\n",
       "        text-align: right;\n",
       "    }\n",
       "</style>\n",
       "<table border=\"1\" class=\"dataframe\">\n",
       "  <thead>\n",
       "    <tr style=\"text-align: right;\">\n",
       "      <th></th>\n",
       "      <th>Name</th>\n",
       "      <th>TreatmentA</th>\n",
       "      <th>TreatmentB</th>\n",
       "      <th>Control</th>\n",
       "    </tr>\n",
       "  </thead>\n",
       "  <tbody>\n",
       "    <tr>\n",
       "      <th>17</th>\n",
       "      <td>Jiayu</td>\n",
       "      <td>0.0</td>\n",
       "      <td>0.0</td>\n",
       "      <td>0.0</td>\n",
       "    </tr>\n",
       "  </tbody>\n",
       "</table>\n",
       "</div>"
      ],
      "text/plain": [
       "     Name  TreatmentA  TreatmentB  Control\n",
       "17  Jiayu         0.0         0.0      0.0"
      ]
     },
     "execution_count": 184,
     "metadata": {},
     "output_type": "execute_result"
    },
    {
     "data": {
      "image/png": "[encoded data removed]",
      "text/plain": [
       "<Figure size 432x288 with 1 Axes>"
      ]
     },
     "metadata": {
      "needs_background": "light"
     },
     "output_type": "display_data"
    }
   ],
   "source": [
    "plt.hist(X['Control'])\n",
    "treatment_proportions[treatment_proportions['Name'] == 'Jiayu']"
   ]
  },
  {
   "cell_type": "code",
   "execution_count": 169,
   "metadata": {},
   "outputs": [],
   "source": [
    "X = X.drop(columns=['Name'])\n",
    "X = X.rename(columns={'Asit Mishra': \"Asit\", 'Baison Ning': \"Baison\", 'Caren Liew': \"Caren\", 'Toby Cheung': 'Toby', 'You Chun':'You'})"
   ]
  },
  {
   "cell_type": "code",
   "execution_count": 170,
   "metadata": {},
   "outputs": [],
   "source": [
    "X_train, X_test, y_train, y_test = train_test_split(X, y, test_size=0.2, random_state=1)"
   ]
  },
  {
   "cell_type": "code",
   "execution_count": 59,
   "metadata": {},
   "outputs": [],
   "source": [
    "formula = 'HourlyEnergy ~ '\n",
    "start = True\n",
    "for each in X.columns:\n",
    "    if start:\n",
    "        start = False\n",
    "        formula = formula + each\n",
    "        continue\n",
    "    if each == 'HourlyEnergy':\n",
    "        continue\n",
    "    formula = formula + '+' + each"
   ]
  },
  {
   "cell_type": "code",
   "execution_count": 174,
   "metadata": {},
   "outputs": [],
   "source": [
    "#before\n",
    "formula = 'HourlyEnergy~ Weekend_Indicator+DailyRainfallTotal+Highest60MinRainfall+Highest120MinRainfall+MeanTemperature+MaximumTemperature+MinimumTemperature+MeanWindSpeed+MaxWindSpeed+Ajeet+Ashish+Asit+Baison+Benjamin+Caren+Chayle+Christopher+Daphne+Edwin+Giri+Hoan+Jiayu+Keith+Ken+Manish+Ola+Pandarasamy+Prakhar+Ramit+Sivaraam+Sneha+Toby+Vicky+Viveka+You+Zuraimi+Friday+Monday+Saturday+Sunday+Thursday+Tuesday+Wednesday+Hour_0+Hour_1+Hour_2+Hour_3+Hour_4+Hour_5+Hour_6+Hour_7+Hour_8+Hour_9+Hour_10+Hour_11+Hour_12+Hour_13+Hour_14+Hour_15+Hour_16+Hour_17+Hour_18+Hour_19+Hour_20+Hour_21+Hour_22+Hour_23+TreatmentA+TreatmentB+Control'\n",
    "#after"
   ]
  },
  {
   "cell_type": "code",
   "execution_count": 172,
   "metadata": {},
   "outputs": [
    {
     "data": {
      "text/plain": [
       "'HourlyEnergy~ Weekend_Indicator+DailyRainfallTotal+Highest60MinRainfall+Highest120MinRainfall+MeanTemperature+MaximumTemperature+MinimumTemperature+MeanWindSpeed+MaxWindSpeed+Ajeet+Ashish+Asit+Baison+Benjamin+Caren+Chayle+Christopher+Daphne+Edwin+Giri+Hoan+Jiayu+Keith+Ken+Komang+Manish+Ola+Pandarasamy+Prakhar+Ramit+Sivaraam+Sneha+Toby+Vicky+Viveka+You+Zuraimi+Friday+Monday+Saturday+Sunday+Thursday+Tuesday+Wednesday+Hour_0+Hour_1+Hour_2+Hour_3+Hour_4+Hour_5+Hour_6+Hour_7+Hour_8+Hour_9+Hour_10+Hour_11+Hour_12+Hour_13+Hour_14+Hour_15+Hour_16+Hour_17+Hour_18+Hour_19+Hour_20+Hour_21+Hour_22+Hour_23+TreatmentA+TreatmentB+Control'"
      ]
     },
     "execution_count": 172,
     "metadata": {},
     "output_type": "execute_result"
    }
   ],
   "source": [
    "formula"
   ]
  },
  {
   "cell_type": "code",
   "execution_count": 62,
   "metadata": {},
   "outputs": [],
   "source": [
    "#treatment no treatment\n",
    "#treatment A, treatment B, treatment Control\n",
    "#proportion"
   ]
  },
  {
   "cell_type": "code",
   "execution_count": 175,
   "metadata": {
    "scrolled": true
   },
   "outputs": [
    {
     "data": {
      "text/html": [
       "<table class=\"simpletable\">\n",
       "<caption>OLS Regression Results</caption>\n",
       "<tr>\n",
       "  <th>Dep. Variable:</th>      <td>HourlyEnergy</td>   <th>  R-squared:         </th>  <td>   0.487</td>  \n",
       "</tr>\n",
       "<tr>\n",
       "  <th>Model:</th>                   <td>OLS</td>       <th>  Adj. R-squared:    </th>  <td>   0.486</td>  \n",
       "</tr>\n",
       "<tr>\n",
       "  <th>Method:</th>             <td>Least Squares</td>  <th>  F-statistic:       </th>  <td>   1039.</td>  \n",
       "</tr>\n",
       "<tr>\n",
       "  <th>Date:</th>             <td>Thu, 19 Dec 2019</td> <th>  Prob (F-statistic):</th>   <td>  0.00</td>   \n",
       "</tr>\n",
       "<tr>\n",
       "  <th>Time:</th>                 <td>20:43:01</td>     <th>  Log-Likelihood:    </th> <td>-3.3568e+05</td>\n",
       "</tr>\n",
       "<tr>\n",
       "  <th>No. Observations:</th>      <td> 63644</td>      <th>  AIC:               </th>  <td>6.715e+05</td> \n",
       "</tr>\n",
       "<tr>\n",
       "  <th>Df Residuals:</th>          <td> 63585</td>      <th>  BIC:               </th>  <td>6.720e+05</td> \n",
       "</tr>\n",
       "<tr>\n",
       "  <th>Df Model:</th>              <td>    58</td>      <th>                     </th>      <td> </td>     \n",
       "</tr>\n",
       "<tr>\n",
       "  <th>Covariance Type:</th>      <td>nonrobust</td>    <th>                     </th>      <td> </td>     \n",
       "</tr>\n",
       "</table>\n",
       "<table class=\"simpletable\">\n",
       "<tr>\n",
       "            <td></td>               <th>coef</th>     <th>std err</th>      <th>t</th>      <th>P>|t|</th>  <th>[0.025</th>    <th>0.975]</th>  \n",
       "</tr>\n",
       "<tr>\n",
       "  <th>Intercept</th>             <td>  -54.8826</td> <td>    5.509</td> <td>   -9.963</td> <td> 0.000</td> <td>  -65.680</td> <td>  -44.086</td>\n",
       "</tr>\n",
       "<tr>\n",
       "  <th>Weekend_Indicator</th>     <td>   -8.9105</td> <td>    0.692</td> <td>  -12.873</td> <td> 0.000</td> <td>  -10.267</td> <td>   -7.554</td>\n",
       "</tr>\n",
       "<tr>\n",
       "  <th>DailyRainfallTotal</th>    <td>    0.8822</td> <td>    0.089</td> <td>    9.877</td> <td> 0.000</td> <td>    0.707</td> <td>    1.057</td>\n",
       "</tr>\n",
       "<tr>\n",
       "  <th>Highest60MinRainfall</th>  <td>    0.3875</td> <td>    0.099</td> <td>    3.898</td> <td> 0.000</td> <td>    0.193</td> <td>    0.582</td>\n",
       "</tr>\n",
       "<tr>\n",
       "  <th>Highest120MinRainfall</th> <td>   -1.0447</td> <td>    0.127</td> <td>   -8.246</td> <td> 0.000</td> <td>   -1.293</td> <td>   -0.796</td>\n",
       "</tr>\n",
       "<tr>\n",
       "  <th>MeanTemperature</th>       <td>    7.7026</td> <td>    0.466</td> <td>   16.546</td> <td> 0.000</td> <td>    6.790</td> <td>    8.615</td>\n",
       "</tr>\n",
       "<tr>\n",
       "  <th>MaximumTemperature</th>    <td>   -1.4271</td> <td>    0.265</td> <td>   -5.393</td> <td> 0.000</td> <td>   -1.946</td> <td>   -0.908</td>\n",
       "</tr>\n",
       "<tr>\n",
       "  <th>MinimumTemperature</th>    <td>   -1.0156</td> <td>    0.252</td> <td>   -4.027</td> <td> 0.000</td> <td>   -1.510</td> <td>   -0.521</td>\n",
       "</tr>\n",
       "<tr>\n",
       "  <th>MeanWindSpeed</th>         <td>   -2.4787</td> <td>    0.086</td> <td>  -28.673</td> <td> 0.000</td> <td>   -2.648</td> <td>   -2.309</td>\n",
       "</tr>\n",
       "<tr>\n",
       "  <th>MaxWindSpeed</th>          <td>   -0.0667</td> <td>    0.032</td> <td>   -2.085</td> <td> 0.037</td> <td>   -0.130</td> <td>   -0.004</td>\n",
       "</tr>\n",
       "<tr>\n",
       "  <th>Ajeet</th>                 <td>  -16.2005</td> <td>    0.971</td> <td>  -16.682</td> <td> 0.000</td> <td>  -18.104</td> <td>  -14.297</td>\n",
       "</tr>\n",
       "<tr>\n",
       "  <th>Ashish</th>                <td>  -16.3468</td> <td>    0.792</td> <td>  -20.631</td> <td> 0.000</td> <td>  -17.900</td> <td>  -14.794</td>\n",
       "</tr>\n",
       "<tr>\n",
       "  <th>Asit</th>                  <td>-1.444e-14</td> <td> 9.22e-16</td> <td>  -15.666</td> <td> 0.000</td> <td>-1.62e-14</td> <td>-1.26e-14</td>\n",
       "</tr>\n",
       "<tr>\n",
       "  <th>Baison</th>                <td> 3.764e-14</td> <td> 7.05e-16</td> <td>   53.387</td> <td> 0.000</td> <td> 3.63e-14</td> <td>  3.9e-14</td>\n",
       "</tr>\n",
       "<tr>\n",
       "  <th>Benjamin</th>              <td>  -36.6474</td> <td>    1.373</td> <td>  -26.698</td> <td> 0.000</td> <td>  -39.338</td> <td>  -33.957</td>\n",
       "</tr>\n",
       "<tr>\n",
       "  <th>Caren</th>                 <td>-3.802e-14</td> <td> 1.07e-15</td> <td>  -35.378</td> <td> 0.000</td> <td>-4.01e-14</td> <td>-3.59e-14</td>\n",
       "</tr>\n",
       "<tr>\n",
       "  <th>Chayle</th>                <td>   28.0525</td> <td>    0.717</td> <td>   39.145</td> <td> 0.000</td> <td>   26.648</td> <td>   29.457</td>\n",
       "</tr>\n",
       "<tr>\n",
       "  <th>Christopher</th>           <td>    7.6444</td> <td>    0.807</td> <td>    9.470</td> <td> 0.000</td> <td>    6.062</td> <td>    9.227</td>\n",
       "</tr>\n",
       "<tr>\n",
       "  <th>Daphne</th>                <td>   -7.0821</td> <td>    0.988</td> <td>   -7.165</td> <td> 0.000</td> <td>   -9.019</td> <td>   -5.145</td>\n",
       "</tr>\n",
       "<tr>\n",
       "  <th>Edwin</th>                 <td>   18.0524</td> <td>    0.755</td> <td>   23.912</td> <td> 0.000</td> <td>   16.573</td> <td>   19.532</td>\n",
       "</tr>\n",
       "<tr>\n",
       "  <th>Giri</th>                  <td>   -6.1854</td> <td>    0.819</td> <td>   -7.550</td> <td> 0.000</td> <td>   -7.791</td> <td>   -4.580</td>\n",
       "</tr>\n",
       "<tr>\n",
       "  <th>Hoan</th>                  <td>  -16.5344</td> <td>    0.844</td> <td>  -19.590</td> <td> 0.000</td> <td>  -18.189</td> <td>  -14.880</td>\n",
       "</tr>\n",
       "<tr>\n",
       "  <th>Jiayu</th>                 <td>  156.4236</td> <td>    1.014</td> <td>  154.248</td> <td> 0.000</td> <td>  154.436</td> <td>  158.411</td>\n",
       "</tr>\n",
       "<tr>\n",
       "  <th>Keith</th>                 <td>  -33.4562</td> <td>    1.041</td> <td>  -32.152</td> <td> 0.000</td> <td>  -35.496</td> <td>  -31.417</td>\n",
       "</tr>\n",
       "<tr>\n",
       "  <th>Ken</th>                   <td>   -9.1215</td> <td>    0.989</td> <td>   -9.223</td> <td> 0.000</td> <td>  -11.060</td> <td>   -7.183</td>\n",
       "</tr>\n",
       "<tr>\n",
       "  <th>Manish</th>                <td>   -6.7820</td> <td>    0.860</td> <td>   -7.890</td> <td> 0.000</td> <td>   -8.467</td> <td>   -5.097</td>\n",
       "</tr>\n",
       "<tr>\n",
       "  <th>Ola</th>                   <td>    0.2073</td> <td>    0.844</td> <td>    0.246</td> <td> 0.806</td> <td>   -1.448</td> <td>    1.863</td>\n",
       "</tr>\n",
       "<tr>\n",
       "  <th>Pandarasamy</th>           <td>  -30.2373</td> <td>    1.152</td> <td>  -26.247</td> <td> 0.000</td> <td>  -32.495</td> <td>  -27.979</td>\n",
       "</tr>\n",
       "<tr>\n",
       "  <th>Prakhar</th>               <td>    8.5800</td> <td>    0.550</td> <td>   15.606</td> <td> 0.000</td> <td>    7.502</td> <td>    9.658</td>\n",
       "</tr>\n",
       "<tr>\n",
       "  <th>Ramit</th>                 <td>   -7.4479</td> <td>    0.827</td> <td>   -9.004</td> <td> 0.000</td> <td>   -9.069</td> <td>   -5.827</td>\n",
       "</tr>\n",
       "<tr>\n",
       "  <th>Sivaraam</th>              <td>  -16.5686</td> <td>    1.026</td> <td>  -16.151</td> <td> 0.000</td> <td>  -18.579</td> <td>  -14.558</td>\n",
       "</tr>\n",
       "<tr>\n",
       "  <th>Sneha</th>                 <td>  -16.9699</td> <td>    0.789</td> <td>  -21.511</td> <td> 0.000</td> <td>  -18.516</td> <td>  -15.424</td>\n",
       "</tr>\n",
       "<tr>\n",
       "  <th>Toby</th>                  <td> 1.124e-16</td> <td> 7.34e-16</td> <td>    0.153</td> <td> 0.878</td> <td>-1.33e-15</td> <td> 1.55e-15</td>\n",
       "</tr>\n",
       "<tr>\n",
       "  <th>Vicky</th>                 <td>    3.5933</td> <td>    1.025</td> <td>    3.505</td> <td> 0.000</td> <td>    1.584</td> <td>    5.603</td>\n",
       "</tr>\n",
       "<tr>\n",
       "  <th>Viveka</th>                <td>  -44.7060</td> <td>    1.366</td> <td>  -32.732</td> <td> 0.000</td> <td>  -47.383</td> <td>  -42.029</td>\n",
       "</tr>\n",
       "<tr>\n",
       "  <th>You</th>                   <td> 3.751e-15</td> <td> 4.63e-16</td> <td>    8.096</td> <td> 0.000</td> <td> 2.84e-15</td> <td> 4.66e-15</td>\n",
       "</tr>\n",
       "<tr>\n",
       "  <th>Zuraimi</th>               <td>  -13.1501</td> <td>    0.762</td> <td>  -17.264</td> <td> 0.000</td> <td>  -14.643</td> <td>  -11.657</td>\n",
       "</tr>\n",
       "<tr>\n",
       "  <th>Friday</th>                <td>  -15.0249</td> <td>    1.065</td> <td>  -14.106</td> <td> 0.000</td> <td>  -17.113</td> <td>  -12.937</td>\n",
       "</tr>\n",
       "<tr>\n",
       "  <th>Monday</th>                <td>   -7.8936</td> <td>    1.035</td> <td>   -7.630</td> <td> 0.000</td> <td>   -9.921</td> <td>   -5.866</td>\n",
       "</tr>\n",
       "<tr>\n",
       "  <th>Saturday</th>              <td>   -7.3803</td> <td>    0.561</td> <td>  -13.153</td> <td> 0.000</td> <td>   -8.480</td> <td>   -6.281</td>\n",
       "</tr>\n",
       "<tr>\n",
       "  <th>Sunday</th>                <td>   -1.5302</td> <td>    0.568</td> <td>   -2.692</td> <td> 0.007</td> <td>   -2.644</td> <td>   -0.416</td>\n",
       "</tr>\n",
       "<tr>\n",
       "  <th>Thursday</th>              <td>   -8.4422</td> <td>    1.039</td> <td>   -8.123</td> <td> 0.000</td> <td>  -10.479</td> <td>   -6.405</td>\n",
       "</tr>\n",
       "<tr>\n",
       "  <th>Tuesday</th>               <td>   -7.1997</td> <td>    1.081</td> <td>   -6.660</td> <td> 0.000</td> <td>   -9.319</td> <td>   -5.081</td>\n",
       "</tr>\n",
       "<tr>\n",
       "  <th>Wednesday</th>             <td>   -7.4117</td> <td>    1.097</td> <td>   -6.755</td> <td> 0.000</td> <td>   -9.562</td> <td>   -5.261</td>\n",
       "</tr>\n",
       "<tr>\n",
       "  <th>Hour_0</th>                <td>   12.9812</td> <td>    0.915</td> <td>   14.189</td> <td> 0.000</td> <td>   11.188</td> <td>   14.774</td>\n",
       "</tr>\n",
       "<tr>\n",
       "  <th>Hour_1</th>                <td>   13.6159</td> <td>    0.912</td> <td>   14.928</td> <td> 0.000</td> <td>   11.828</td> <td>   15.404</td>\n",
       "</tr>\n",
       "<tr>\n",
       "  <th>Hour_2</th>                <td>   12.4344</td> <td>    0.911</td> <td>   13.656</td> <td> 0.000</td> <td>   10.650</td> <td>   14.219</td>\n",
       "</tr>\n",
       "<tr>\n",
       "  <th>Hour_3</th>                <td>    6.5500</td> <td>    0.904</td> <td>    7.242</td> <td> 0.000</td> <td>    4.777</td> <td>    8.323</td>\n",
       "</tr>\n",
       "<tr>\n",
       "  <th>Hour_4</th>                <td>   -3.6237</td> <td>    0.915</td> <td>   -3.959</td> <td> 0.000</td> <td>   -5.418</td> <td>   -1.829</td>\n",
       "</tr>\n",
       "<tr>\n",
       "  <th>Hour_5</th>                <td>   -6.1533</td> <td>    0.909</td> <td>   -6.766</td> <td> 0.000</td> <td>   -7.936</td> <td>   -4.371</td>\n",
       "</tr>\n",
       "<tr>\n",
       "  <th>Hour_6</th>                <td>   -8.9325</td> <td>    0.908</td> <td>   -9.833</td> <td> 0.000</td> <td>  -10.713</td> <td>   -7.152</td>\n",
       "</tr>\n",
       "<tr>\n",
       "  <th>Hour_7</th>                <td>   -8.0473</td> <td>    0.911</td> <td>   -8.835</td> <td> 0.000</td> <td>   -9.832</td> <td>   -6.262</td>\n",
       "</tr>\n",
       "<tr>\n",
       "  <th>Hour_8</th>                <td>  -13.4571</td> <td>    1.055</td> <td>  -12.756</td> <td> 0.000</td> <td>  -15.525</td> <td>  -11.389</td>\n",
       "</tr>\n",
       "<tr>\n",
       "  <th>Hour_9</th>                <td>  -11.9494</td> <td>    1.347</td> <td>   -8.874</td> <td> 0.000</td> <td>  -14.589</td> <td>   -9.310</td>\n",
       "</tr>\n",
       "<tr>\n",
       "  <th>Hour_10</th>               <td>  -11.4743</td> <td>    0.975</td> <td>  -11.769</td> <td> 0.000</td> <td>  -13.385</td> <td>   -9.563</td>\n",
       "</tr>\n",
       "<tr>\n",
       "  <th>Hour_11</th>               <td>  -11.0546</td> <td>    0.919</td> <td>  -12.026</td> <td> 0.000</td> <td>  -12.856</td> <td>   -9.253</td>\n",
       "</tr>\n",
       "<tr>\n",
       "  <th>Hour_12</th>               <td>  -10.2968</td> <td>    0.914</td> <td>  -11.266</td> <td> 0.000</td> <td>  -12.088</td> <td>   -8.506</td>\n",
       "</tr>\n",
       "<tr>\n",
       "  <th>Hour_13</th>               <td>  -10.5992</td> <td>    0.909</td> <td>  -11.657</td> <td> 0.000</td> <td>  -12.381</td> <td>   -8.817</td>\n",
       "</tr>\n",
       "<tr>\n",
       "  <th>Hour_14</th>               <td>  -10.2448</td> <td>    0.909</td> <td>  -11.269</td> <td> 0.000</td> <td>  -12.027</td> <td>   -8.463</td>\n",
       "</tr>\n",
       "<tr>\n",
       "  <th>Hour_15</th>               <td>   -9.7759</td> <td>    0.921</td> <td>  -10.609</td> <td> 0.000</td> <td>  -11.582</td> <td>   -7.970</td>\n",
       "</tr>\n",
       "<tr>\n",
       "  <th>Hour_16</th>               <td>  -10.5440</td> <td>    0.910</td> <td>  -11.587</td> <td> 0.000</td> <td>  -12.328</td> <td>   -8.760</td>\n",
       "</tr>\n",
       "<tr>\n",
       "  <th>Hour_17</th>               <td>   -9.5328</td> <td>    0.909</td> <td>  -10.488</td> <td> 0.000</td> <td>  -11.314</td> <td>   -7.751</td>\n",
       "</tr>\n",
       "<tr>\n",
       "  <th>Hour_18</th>               <td>   -1.7358</td> <td>    0.908</td> <td>   -1.912</td> <td> 0.056</td> <td>   -3.515</td> <td>    0.044</td>\n",
       "</tr>\n",
       "<tr>\n",
       "  <th>Hour_19</th>               <td>    6.1221</td> <td>    0.912</td> <td>    6.715</td> <td> 0.000</td> <td>    4.335</td> <td>    7.909</td>\n",
       "</tr>\n",
       "<tr>\n",
       "  <th>Hour_20</th>               <td>    7.9398</td> <td>    0.911</td> <td>    8.715</td> <td> 0.000</td> <td>    6.154</td> <td>    9.725</td>\n",
       "</tr>\n",
       "<tr>\n",
       "  <th>Hour_21</th>               <td>    7.2491</td> <td>    0.908</td> <td>    7.987</td> <td> 0.000</td> <td>    5.470</td> <td>    9.028</td>\n",
       "</tr>\n",
       "<tr>\n",
       "  <th>Hour_22</th>               <td>    7.2155</td> <td>    0.914</td> <td>    7.892</td> <td> 0.000</td> <td>    5.424</td> <td>    9.007</td>\n",
       "</tr>\n",
       "<tr>\n",
       "  <th>Hour_23</th>               <td>    8.4311</td> <td>    0.908</td> <td>    9.281</td> <td> 0.000</td> <td>    6.651</td> <td>   10.212</td>\n",
       "</tr>\n",
       "<tr>\n",
       "  <th>TreatmentA</th>            <td>  -26.5588</td> <td>    0.760</td> <td>  -34.926</td> <td> 0.000</td> <td>  -28.049</td> <td>  -25.068</td>\n",
       "</tr>\n",
       "<tr>\n",
       "  <th>TreatmentB</th>            <td>  -24.1609</td> <td>    0.745</td> <td>  -32.450</td> <td> 0.000</td> <td>  -25.620</td> <td>  -22.702</td>\n",
       "</tr>\n",
       "<tr>\n",
       "  <th>Control</th>               <td>  -15.5395</td> <td>    0.655</td> <td>  -23.717</td> <td> 0.000</td> <td>  -16.824</td> <td>  -14.255</td>\n",
       "</tr>\n",
       "</table>\n",
       "<table class=\"simpletable\">\n",
       "<tr>\n",
       "  <th>Omnibus:</th>       <td>86461.874</td> <th>  Durbin-Watson:     </th>   <td>   2.002</td>   \n",
       "</tr>\n",
       "<tr>\n",
       "  <th>Prob(Omnibus):</th>  <td> 0.000</td>   <th>  Jarque-Bera (JB):  </th> <td>236501585.980</td>\n",
       "</tr>\n",
       "<tr>\n",
       "  <th>Skew:</th>           <td> 6.919</td>   <th>  Prob(JB):          </th>   <td>    0.00</td>   \n",
       "</tr>\n",
       "<tr>\n",
       "  <th>Kurtosis:</th>       <td>301.316</td>  <th>  Cond. No.          </th>   <td>5.19e+17</td>   \n",
       "</tr>\n",
       "</table><br/><br/>Warnings:<br/>[1] Standard Errors assume that the covariance matrix of the errors is correctly specified.<br/>[2] The smallest eigenvalue is 1.05e-27. This might indicate that there are<br/>strong multicollinearity problems or that the design matrix is singular."
      ],
      "text/plain": [
       "<class 'statsmodels.iolib.summary.Summary'>\n",
       "\"\"\"\n",
       "                            OLS Regression Results                            \n",
       "==============================================================================\n",
       "Dep. Variable:           HourlyEnergy   R-squared:                       0.487\n",
       "Model:                            OLS   Adj. R-squared:                  0.486\n",
       "Method:                 Least Squares   F-statistic:                     1039.\n",
       "Date:                Thu, 19 Dec 2019   Prob (F-statistic):               0.00\n",
       "Time:                        20:43:01   Log-Likelihood:            -3.3568e+05\n",
       "No. Observations:               63644   AIC:                         6.715e+05\n",
       "Df Residuals:                   63585   BIC:                         6.720e+05\n",
       "Df Model:                          58                                         \n",
       "Covariance Type:            nonrobust                                         \n",
       "=========================================================================================\n",
       "                            coef    std err          t      P>|t|      [0.025      0.975]\n",
       "-----------------------------------------------------------------------------------------\n",
       "Intercept               -54.8826      5.509     -9.963      0.000     -65.680     -44.086\n",
       "Weekend_Indicator        -8.9105      0.692    -12.873      0.000     -10.267      -7.554\n",
       "DailyRainfallTotal        0.8822      0.089      9.877      0.000       0.707       1.057\n",
       "Highest60MinRainfall      0.3875      0.099      3.898      0.000       0.193       0.582\n",
       "Highest120MinRainfall    -1.0447      0.127     -8.246      0.000      -1.293      -0.796\n",
       "MeanTemperature           7.7026      0.466     16.546      0.000       6.790       8.615\n",
       "MaximumTemperature       -1.4271      0.265     -5.393      0.000      -1.946      -0.908\n",
       "MinimumTemperature       -1.0156      0.252     -4.027      0.000      -1.510      -0.521\n",
       "MeanWindSpeed            -2.4787      0.086    -28.673      0.000      -2.648      -2.309\n",
       "MaxWindSpeed             -0.0667      0.032     -2.085      0.037      -0.130      -0.004\n",
       "Ajeet                   -16.2005      0.971    -16.682      0.000     -18.104     -14.297\n",
       "Ashish                  -16.3468      0.792    -20.631      0.000     -17.900     -14.794\n",
       "Asit                  -1.444e-14   9.22e-16    -15.666      0.000   -1.62e-14   -1.26e-14\n",
       "Baison                 3.764e-14   7.05e-16     53.387      0.000    3.63e-14     3.9e-14\n",
       "Benjamin                -36.6474      1.373    -26.698      0.000     -39.338     -33.957\n",
       "Caren                 -3.802e-14   1.07e-15    -35.378      0.000   -4.01e-14   -3.59e-14\n",
       "Chayle                   28.0525      0.717     39.145      0.000      26.648      29.457\n",
       "Christopher               7.6444      0.807      9.470      0.000       6.062       9.227\n",
       "Daphne                   -7.0821      0.988     -7.165      0.000      -9.019      -5.145\n",
       "Edwin                    18.0524      0.755     23.912      0.000      16.573      19.532\n",
       "Giri                     -6.1854      0.819     -7.550      0.000      -7.791      -4.580\n",
       "Hoan                    -16.5344      0.844    -19.590      0.000     -18.189     -14.880\n",
       "Jiayu                   156.4236      1.014    154.248      0.000     154.436     158.411\n",
       "Keith                   -33.4562      1.041    -32.152      0.000     -35.496     -31.417\n",
       "Ken                      -9.1215      0.989     -9.223      0.000     -11.060      -7.183\n",
       "Manish                   -6.7820      0.860     -7.890      0.000      -8.467      -5.097\n",
       "Ola                       0.2073      0.844      0.246      0.806      -1.448       1.863\n",
       "Pandarasamy             -30.2373      1.152    -26.247      0.000     -32.495     -27.979\n",
       "Prakhar                   8.5800      0.550     15.606      0.000       7.502       9.658\n",
       "Ramit                    -7.4479      0.827     -9.004      0.000      -9.069      -5.827\n",
       "Sivaraam                -16.5686      1.026    -16.151      0.000     -18.579     -14.558\n",
       "Sneha                   -16.9699      0.789    -21.511      0.000     -18.516     -15.424\n",
       "Toby                   1.124e-16   7.34e-16      0.153      0.878   -1.33e-15    1.55e-15\n",
       "Vicky                     3.5933      1.025      3.505      0.000       1.584       5.603\n",
       "Viveka                  -44.7060      1.366    -32.732      0.000     -47.383     -42.029\n",
       "You                    3.751e-15   4.63e-16      8.096      0.000    2.84e-15    4.66e-15\n",
       "Zuraimi                 -13.1501      0.762    -17.264      0.000     -14.643     -11.657\n",
       "Friday                  -15.0249      1.065    -14.106      0.000     -17.113     -12.937\n",
       "Monday                   -7.8936      1.035     -7.630      0.000      -9.921      -5.866\n",
       "Saturday                 -7.3803      0.561    -13.153      0.000      -8.480      -6.281\n",
       "Sunday                   -1.5302      0.568     -2.692      0.007      -2.644      -0.416\n",
       "Thursday                 -8.4422      1.039     -8.123      0.000     -10.479      -6.405\n",
       "Tuesday                  -7.1997      1.081     -6.660      0.000      -9.319      -5.081\n",
       "Wednesday                -7.4117      1.097     -6.755      0.000      -9.562      -5.261\n",
       "Hour_0                   12.9812      0.915     14.189      0.000      11.188      14.774\n",
       "Hour_1                   13.6159      0.912     14.928      0.000      11.828      15.404\n",
       "Hour_2                   12.4344      0.911     13.656      0.000      10.650      14.219\n",
       "Hour_3                    6.5500      0.904      7.242      0.000       4.777       8.323\n",
       "Hour_4                   -3.6237      0.915     -3.959      0.000      -5.418      -1.829\n",
       "Hour_5                   -6.1533      0.909     -6.766      0.000      -7.936      -4.371\n",
       "Hour_6                   -8.9325      0.908     -9.833      0.000     -10.713      -7.152\n",
       "Hour_7                   -8.0473      0.911     -8.835      0.000      -9.832      -6.262\n",
       "Hour_8                  -13.4571      1.055    -12.756      0.000     -15.525     -11.389\n",
       "Hour_9                  -11.9494      1.347     -8.874      0.000     -14.589      -9.310\n",
       "Hour_10                 -11.4743      0.975    -11.769      0.000     -13.385      -9.563\n",
       "Hour_11                 -11.0546      0.919    -12.026      0.000     -12.856      -9.253\n",
       "Hour_12                 -10.2968      0.914    -11.266      0.000     -12.088      -8.506\n",
       "Hour_13                 -10.5992      0.909    -11.657      0.000     -12.381      -8.817\n",
       "Hour_14                 -10.2448      0.909    -11.269      0.000     -12.027      -8.463\n",
       "Hour_15                  -9.7759      0.921    -10.609      0.000     -11.582      -7.970\n",
       "Hour_16                 -10.5440      0.910    -11.587      0.000     -12.328      -8.760\n",
       "Hour_17                  -9.5328      0.909    -10.488      0.000     -11.314      -7.751\n",
       "Hour_18                  -1.7358      0.908     -1.912      0.056      -3.515       0.044\n",
       "Hour_19                   6.1221      0.912      6.715      0.000       4.335       7.909\n",
       "Hour_20                   7.9398      0.911      8.715      0.000       6.154       9.725\n",
       "Hour_21                   7.2491      0.908      7.987      0.000       5.470       9.028\n",
       "Hour_22                   7.2155      0.914      7.892      0.000       5.424       9.007\n",
       "Hour_23                   8.4311      0.908      9.281      0.000       6.651      10.212\n",
       "TreatmentA              -26.5588      0.760    -34.926      0.000     -28.049     -25.068\n",
       "TreatmentB              -24.1609      0.745    -32.450      0.000     -25.620     -22.702\n",
       "Control                 -15.5395      0.655    -23.717      0.000     -16.824     -14.255\n",
       "==============================================================================\n",
       "Omnibus:                    86461.874   Durbin-Watson:                   2.002\n",
       "Prob(Omnibus):                  0.000   Jarque-Bera (JB):        236501585.980\n",
       "Skew:                           6.919   Prob(JB):                         0.00\n",
       "Kurtosis:                     301.316   Cond. No.                     5.19e+17\n",
       "==============================================================================\n",
       "\n",
       "Warnings:\n",
       "[1] Standard Errors assume that the covariance matrix of the errors is correctly specified.\n",
       "[2] The smallest eigenvalue is 1.05e-27. This might indicate that there are\n",
       "strong multicollinearity problems or that the design matrix is singular.\n",
       "\"\"\""
      ]
     },
     "execution_count": 175,
     "metadata": {},
     "output_type": "execute_result"
    }
   ],
   "source": [
    "results = smf.ols(formula, data=X_train).fit()\n",
    "results.summary()"
   ]
  },
  {
   "cell_type": "code",
   "execution_count": 176,
   "metadata": {},
   "outputs": [],
   "source": [
    "pred = results.predict(X_train)"
   ]
  },
  {
   "cell_type": "code",
   "execution_count": 178,
   "metadata": {
    "scrolled": true
   },
   "outputs": [
    {
     "name": "stdout",
     "output_type": "stream",
     "text": [
      "47.24936718506169 23.442690945205637 0.4867009363489616\n"
     ]
    }
   ],
   "source": [
    "rmse = (mean_squared_error(pred, y_train))**0.5 #rmse\n",
    "mae = mean_absolute_error(pred, y_train)\n",
    "r2 = r2_score(y_train,pred)\n",
    "print(rmse, mae, r2)"
   ]
  },
  {
   "cell_type": "code",
   "execution_count": 179,
   "metadata": {},
   "outputs": [],
   "source": [
    "pred=results.predict(X_test)"
   ]
  },
  {
   "cell_type": "code",
   "execution_count": 180,
   "metadata": {},
   "outputs": [
    {
     "name": "stdout",
     "output_type": "stream",
     "text": [
      "46.36738776743089 23.74804265583545 0.48530579553442665\n"
     ]
    }
   ],
   "source": [
    "rmse = (mean_squared_error(pred, y_test))**0.5 #rmse\n",
    "mae = mean_absolute_error(pred, y_test)\n",
    "r2 = r2_score(y_test,pred )\n",
    "print(rmse, mae, r2)"
   ]
  },
  {
   "cell_type": "code",
   "execution_count": 68,
   "metadata": {},
   "outputs": [],
   "source": [
    "#lets move on to some sklearn models"
   ]
  },
  {
   "cell_type": "code",
   "execution_count": 185,
   "metadata": {},
   "outputs": [],
   "source": [
    "X_train = X_train.drop(columns=['HourlyEnergy'])\n",
    "X_test = X_test.drop(columns=['HourlyEnergy'])"
   ]
  },
  {
   "cell_type": "code",
   "execution_count": 186,
   "metadata": {},
   "outputs": [],
   "source": [
    "mod = KNeighborsRegressor(n_neighbors = 1)\n",
    "mod.fit(X_train, y_train)\n",
    "pred = mod.predict(X_test)"
   ]
  },
  {
   "cell_type": "code",
   "execution_count": 188,
   "metadata": {},
   "outputs": [
    {
     "name": "stdout",
     "output_type": "stream",
     "text": [
      "56.22751108027513 21.164236831003024 0.24312922035508588\n"
     ]
    }
   ],
   "source": [
    "rmse = (mean_squared_error(pred, y_test))**0.5 #rmse\n",
    "mae = mean_absolute_error(pred, y_test)\n",
    "r2 = r2_score(y_test,pred )\n",
    "print(rmse, mae, r2)"
   ]
  },
  {
   "cell_type": "code",
   "execution_count": 72,
   "metadata": {},
   "outputs": [],
   "source": [
    "#next mod"
   ]
  },
  {
   "cell_type": "code",
   "execution_count": 73,
   "metadata": {},
   "outputs": [],
   "source": [
    "#Kmeans is not a great fit for this"
   ]
  },
  {
   "cell_type": "code",
   "execution_count": 190,
   "metadata": {},
   "outputs": [],
   "source": [
    "mod2 = KMeans(n_clusters=20)\n",
    "mod2.fit(X_train, y_train)\n",
    "pred = mod2.predict(X_test)"
   ]
  },
  {
   "cell_type": "code",
   "execution_count": 191,
   "metadata": {},
   "outputs": [
    {
     "name": "stdout",
     "output_type": "stream",
     "text": [
      "67.26420832200162 29.515007355254525 -0.0831586924332044\n"
     ]
    }
   ],
   "source": [
    "rmse = (mean_squared_error(pred, y_test))**0.5 #rmse\n",
    "mae = mean_absolute_error(pred, y_test)\n",
    "r2 = r2_score( y_test,pred)\n",
    "print(rmse, mae, r2)"
   ]
  },
  {
   "cell_type": "code",
   "execution_count": 192,
   "metadata": {},
   "outputs": [],
   "source": [
    "X_train = X_train.drop(columns=['Treatment_Administered_Indicator'])\n",
    "X_test = X_test.drop(columns=['Treatment_Administered_Indicator'])"
   ]
  },
  {
   "cell_type": "code",
   "execution_count": 193,
   "metadata": {},
   "outputs": [],
   "source": [
    "X_train = X_train.drop(columns=['Highest30MinRainfall'])\n",
    "X_test = X_test.drop(columns=['Highest30MinRainfall'])"
   ]
  },
  {
   "cell_type": "code",
   "execution_count": 194,
   "metadata": {},
   "outputs": [],
   "source": [
    "X_train = X_train.drop(columns=['Highest60MinRainfall'])\n",
    "X_test = X_test.drop(columns=['Highest60MinRainfall'])"
   ]
  },
  {
   "cell_type": "code",
   "execution_count": 195,
   "metadata": {},
   "outputs": [],
   "source": [
    "X_train = X_train.drop(columns=['Highest120MinRainfall'])\n",
    "X_test = X_test.drop(columns=['Highest120MinRainfall'])"
   ]
  },
  {
   "cell_type": "code",
   "execution_count": 196,
   "metadata": {},
   "outputs": [
    {
     "name": "stderr",
     "output_type": "stream",
     "text": [
      "/anaconda3/lib/python3.7/site-packages/sklearn/ensemble/forest.py:246: FutureWarning: The default value of n_estimators will change from 10 in version 0.20 to 100 in 0.22.\n",
      "  \"10 in version 0.20 to 100 in 0.22.\", FutureWarning)\n"
     ]
    }
   ],
   "source": [
    "#rf regressor\n",
    "mod4 = RandomForestRegressor()\n",
    "mod4.fit(X_train, y_train)\n",
    "pred = mod4.predict(X_test)"
   ]
  },
  {
   "cell_type": "code",
   "execution_count": 197,
   "metadata": {},
   "outputs": [
    {
     "name": "stdout",
     "output_type": "stream",
     "text": [
      "31.115144646797212 13.224426015670375 0.7682244247096006\n"
     ]
    }
   ],
   "source": [
    "rmse = (mean_squared_error(pred, y_test))**0.5 #rmse\n",
    "mae = mean_absolute_error(pred, y_test)\n",
    "r2 = r2_score(y_test,pred )\n",
    "print(rmse, mae, r2)"
   ]
  },
  {
   "cell_type": "code",
   "execution_count": 82,
   "metadata": {},
   "outputs": [],
   "source": [
    "#how about BaggingRegressor, GradientBoostingRegressor, VotingRegressor"
   ]
  },
  {
   "cell_type": "code",
   "execution_count": 198,
   "metadata": {},
   "outputs": [],
   "source": [
    "mod5 = BaggingRegressor()\n",
    "mod5.fit(X_train, y_train)\n",
    "pred = mod5.predict(X_test)"
   ]
  },
  {
   "cell_type": "code",
   "execution_count": 199,
   "metadata": {},
   "outputs": [
    {
     "name": "stdout",
     "output_type": "stream",
     "text": [
      "31.652956724843627 13.314983934489872 0.7601428952081539\n"
     ]
    }
   ],
   "source": [
    "rmse = (mean_squared_error(pred, y_test))**0.5 #rmse\n",
    "mae = mean_absolute_error(pred, y_test)\n",
    "r2 = r2_score(y_test,pred )\n",
    "print(rmse, mae, r2)"
   ]
  },
  {
   "cell_type": "code",
   "execution_count": 200,
   "metadata": {},
   "outputs": [],
   "source": [
    "mod6 = GradientBoostingRegressor()\n",
    "mod6.fit(X_train, y_train)\n",
    "pred = mod6.predict(X_test)"
   ]
  },
  {
   "cell_type": "code",
   "execution_count": 201,
   "metadata": {
    "scrolled": true
   },
   "outputs": [
    {
     "name": "stdout",
     "output_type": "stream",
     "text": [
      "39.11368952305048 20.069754556104773 0.6337466654715825\n"
     ]
    }
   ],
   "source": [
    "rmse = (mean_squared_error(pred, y_test))**0.5 #rmse\n",
    "mae = mean_absolute_error(pred, y_test)\n",
    "r2 = r2_score(y_test,pred )\n",
    "print(rmse, mae, r2)"
   ]
  },
  {
   "cell_type": "markdown",
   "metadata": {},
   "source": [
    "## PostTreatment, First Model Applied"
   ]
  },
  {
   "cell_type": "code",
   "execution_count": 202,
   "metadata": {},
   "outputs": [],
   "source": [
    "period_data = no_na[is_after]\n",
    "y = period_data[\"HourlyEnergy\"]\n",
    "X = period_data.drop(columns=[\"TotalEnergy\", \"Date\", \"WorkGroup\"])\n",
    "X = pd.concat([X, pd.get_dummies(X['Name'])], axis=1)\n",
    "X = X.dropna(axis=1)\n",
    "X = pd.concat([X, pd.get_dummies(X['Day of Week'])], axis=1)\n",
    "X = X.drop(columns = ['Day of Week', 'OutOfOffice', 'Treatment_A_Indicator', \n",
    "                      'Treatment_B_Indicator', 'Treatment_control_Indicator', 'Treatment_Administered_Indicator',\n",
    "                      'NonParticipant', 'DailyLoginCount', 'DailyDurationCount'])\n",
    "X['Hour'] = X['Hour'].astype(int)\n",
    "X = pd.concat([X, pd.get_dummies(X['Hour'], prefix='Hour')], axis=1)\n",
    "X = X.drop(columns = ['Datetime', 'Hour'])\n",
    "X = X.rename(columns={'Asit Mishra': \"Asit\", 'Baison Ning': \"Baison\", 'Caren Liew': \"Caren\", 'Toby Cheung': 'Toby', 'You Chun':'You'})\n",
    "X = X.drop(columns=['Name'])"
   ]
  },
  {
   "cell_type": "code",
   "execution_count": 203,
   "metadata": {},
   "outputs": [],
   "source": [
    "X_train, X_test, y_train, y_test = train_test_split(X, y, test_size=0.2, random_state=1)"
   ]
  },
  {
   "cell_type": "code",
   "execution_count": 204,
   "metadata": {},
   "outputs": [],
   "source": [
    "pred_during_byfirst=pre_train_mod.predict(X_test)"
   ]
  },
  {
   "cell_type": "code",
   "execution_count": 205,
   "metadata": {},
   "outputs": [
    {
     "name": "stdout",
     "output_type": "stream",
     "text": [
      "61.203669167335136 30.812993004450806 0.030966449282571973\n"
     ]
    }
   ],
   "source": [
    "rmse = (mean_squared_error(pred_during_byfirst, y_test))**0.5 #rmse\n",
    "mae = mean_absolute_error(pred_during_byfirst, y_test)\n",
    "r2 = r2_score(y_test,pred_during_byfirst)\n",
    "print(rmse, mae, r2)"
   ]
  },
  {
   "cell_type": "code",
   "execution_count": null,
   "metadata": {},
   "outputs": [],
   "source": []
  }
 ],
 "metadata": {
  "celltoolbar": "Raw Cell Format",
  "kernelspec": {
   "display_name": "Python 3",
   "language": "python",
   "name": "python3"
  },
  "language_info": {
   "codemirror_mode": {
    "name": "ipython",
    "version": 3
   },
   "file_extension": ".py",
   "mimetype": "text/x-python",
   "name": "python",
   "nbconvert_exporter": "python",
   "pygments_lexer": "ipython3",
   "version": "3.7.3"
  }
 },
 "nbformat": 4,
 "nbformat_minor": 2
}
